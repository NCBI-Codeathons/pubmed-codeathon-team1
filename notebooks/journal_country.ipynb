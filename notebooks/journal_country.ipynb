{
 "cells": [
  {
   "cell_type": "code",
   "execution_count": 1,
   "id": "5fdfea93",
   "metadata": {},
   "outputs": [],
   "source": [
    "import pandas as pd"
   ]
  },
  {
   "cell_type": "code",
   "execution_count": 2,
   "id": "e1ea9983",
   "metadata": {},
   "outputs": [],
   "source": [
    "pd.set_option('display.max_rows', 6)\n",
    "pd.set_option('display.max_columns', 500)"
   ]
  },
  {
   "cell_type": "code",
   "execution_count": 3,
   "id": "1afcb404",
   "metadata": {},
   "outputs": [],
   "source": [
    "data = pd.read_csv('/home/jupyter-brooks.leitner/pubmed-codeathon-team1/data/out/pmid_data.csv')"
   ]
  },
  {
   "cell_type": "code",
   "execution_count": 9,
   "id": "8765f26c",
   "metadata": {},
   "outputs": [
    {
     "data": {
      "text/html": [
       "<div>\n",
       "<style scoped>\n",
       "    .dataframe tbody tr th:only-of-type {\n",
       "        vertical-align: middle;\n",
       "    }\n",
       "\n",
       "    .dataframe tbody tr th {\n",
       "        vertical-align: top;\n",
       "    }\n",
       "\n",
       "    .dataframe thead th {\n",
       "        text-align: right;\n",
       "    }\n",
       "</style>\n",
       "<table border=\"1\" class=\"dataframe\">\n",
       "  <thead>\n",
       "    <tr style=\"text-align: right;\">\n",
       "      <th></th>\n",
       "      <th>query</th>\n",
       "      <th>search_type</th>\n",
       "      <th>page</th>\n",
       "      <th>country</th>\n",
       "    </tr>\n",
       "  </thead>\n",
       "  <tbody>\n",
       "    <tr>\n",
       "      <th>0</th>\n",
       "      <td>Moyamoya</td>\n",
       "      <td>relevance</td>\n",
       "      <td>1</td>\n",
       "      <td>United States</td>\n",
       "    </tr>\n",
       "    <tr>\n",
       "      <th>1</th>\n",
       "      <td>Moyamoya</td>\n",
       "      <td>relevance</td>\n",
       "      <td>1</td>\n",
       "      <td>Germany</td>\n",
       "    </tr>\n",
       "    <tr>\n",
       "      <th>2</th>\n",
       "      <td>Moyamoya</td>\n",
       "      <td>relevance</td>\n",
       "      <td>1</td>\n",
       "      <td>Switzerland</td>\n",
       "    </tr>\n",
       "    <tr>\n",
       "      <th>...</th>\n",
       "      <td>...</td>\n",
       "      <td>...</td>\n",
       "      <td>...</td>\n",
       "      <td>...</td>\n",
       "    </tr>\n",
       "    <tr>\n",
       "      <th>7203</th>\n",
       "      <td>literacy skills</td>\n",
       "      <td>pubdate_desc</td>\n",
       "      <td>2</td>\n",
       "      <td>England</td>\n",
       "    </tr>\n",
       "    <tr>\n",
       "      <th>7204</th>\n",
       "      <td>literacy skills</td>\n",
       "      <td>pubdate_desc</td>\n",
       "      <td>2</td>\n",
       "      <td>England</td>\n",
       "    </tr>\n",
       "    <tr>\n",
       "      <th>7205</th>\n",
       "      <td>literacy skills</td>\n",
       "      <td>pubdate_desc</td>\n",
       "      <td>2</td>\n",
       "      <td>Australia</td>\n",
       "    </tr>\n",
       "  </tbody>\n",
       "</table>\n",
       "<p>7089 rows × 4 columns</p>\n",
       "</div>"
      ],
      "text/plain": [
       "                query   search_type  page        country\n",
       "0            Moyamoya     relevance     1  United States\n",
       "1            Moyamoya     relevance     1        Germany\n",
       "2            Moyamoya     relevance     1    Switzerland\n",
       "...               ...           ...   ...            ...\n",
       "7203  literacy skills  pubdate_desc     2        England\n",
       "7204  literacy skills  pubdate_desc     2        England\n",
       "7205  literacy skills  pubdate_desc     2      Australia\n",
       "\n",
       "[7089 rows x 4 columns]"
      ]
     },
     "execution_count": 9,
     "metadata": {},
     "output_type": "execute_result"
    }
   ],
   "source": [
    "country_journal_feature = data[['query', 'search_type', 'page', 'country']]\n",
    "country_journal_feature.dropna(subset=[\"country\"])"
   ]
  },
  {
   "cell_type": "code",
   "execution_count": 10,
   "id": "b18af4f0",
   "metadata": {
    "collapsed": true
   },
   "outputs": [
    {
     "name": "stderr",
     "output_type": "stream",
     "text": [
      "/tmp/ipykernel_260390/3135408885.py:14: SettingWithCopyWarning: \n",
      "A value is trying to be set on a copy of a slice from a DataFrame.\n",
      "Try using .loc[row_indexer,col_indexer] = value instead\n",
      "\n",
      "See the caveats in the documentation: https://pandas.pydata.org/pandas-docs/stable/user_guide/indexing.html#returning-a-view-versus-a-copy\n",
      "  country_journal_feature['country_code'] = country_journal_feature.apply(lambda x: country_setting(x['country']), axis=1)\n"
     ]
    }
   ],
   "source": [
    "#Define US, England, or Ireland as a value of 1, And anything else as 0\n",
    "\n",
    "def country_setting(country):\n",
    "    if country == 'United States':\n",
    "        condition = 1\n",
    "    elif country == 'Ireland':\n",
    "        condition = 1\n",
    "    elif country == 'England':\n",
    "        condition = 1\n",
    "    else:\n",
    "        condition = 0\n",
    "    return condition\n",
    "\n",
    "country_journal_feature['country_code'] = country_journal_feature.apply(lambda x: country_setting(x['country']), axis=1)\n"
   ]
  },
  {
   "cell_type": "code",
   "execution_count": 14,
   "id": "4f4ed53e",
   "metadata": {},
   "outputs": [],
   "source": [
    "# Group by queries for later analysis, take the mean (we dropped values)\n",
    "group_keys = [\"query\", \"search_type\", \"page\"]\n",
    "country_journal_feature_summary = country_journal_feature.groupby(group_keys).country_code.mean()"
   ]
  },
  {
   "cell_type": "code",
   "execution_count": 16,
   "id": "989bae0c",
   "metadata": {},
   "outputs": [],
   "source": [
    "country_journal_feature_summary.to_csv('/home/jupyter-brooks.leitner/pubmed-codeathon-team1/data/features/country_journal.csv')"
   ]
  }
 ],
 "metadata": {
  "kernelspec": {
   "display_name": "Python 3 (ipykernel)",
   "language": "python",
   "name": "python3"
  },
  "language_info": {
   "codemirror_mode": {
    "name": "ipython",
    "version": 3
   },
   "file_extension": ".py",
   "mimetype": "text/x-python",
   "name": "python",
   "nbconvert_exporter": "python",
   "pygments_lexer": "ipython3",
   "version": "3.9.7"
  }
 },
 "nbformat": 4,
 "nbformat_minor": 5
}
