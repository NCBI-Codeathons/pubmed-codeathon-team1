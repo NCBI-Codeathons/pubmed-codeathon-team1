{
 "cells": [
  {
   "cell_type": "code",
   "execution_count": 1,
   "id": "99adf446",
   "metadata": {},
   "outputs": [],
   "source": [
    "import pandas as pd"
   ]
  },
  {
   "cell_type": "code",
   "execution_count": 3,
   "id": "434bb602",
   "metadata": {},
   "outputs": [],
   "source": [
    "pmid_file_data = pd.read_csv('../data/out/pmid_data.csv')"
   ]
  },
  {
   "cell_type": "code",
   "execution_count": 5,
   "id": "e62d5bcf",
   "metadata": {},
   "outputs": [
    {
     "data": {
      "text/plain": [
       "Index(['pmid', 'query', 'search_type', 'page', 'relative_citation_ratio',\n",
       "       'human', 'animal', 'molecular_cellular', 'apt', 'is_clinical',\n",
       "       'citation_count', 'cited_by', 'references', 'title', 'abstract',\n",
       "       'journal', 'authors', 'affiliations', 'pubdate', 'mesh_terms',\n",
       "       'publication_types', 'chemical_list', 'keywords', 'languages',\n",
       "       'country'],\n",
       "      dtype='object')"
      ]
     },
     "execution_count": 5,
     "metadata": {},
     "output_type": "execute_result"
    }
   ],
   "source": [
    "pmid_file_data.columns"
   ]
  },
  {
   "cell_type": "code",
   "execution_count": 9,
   "id": "1789f773",
   "metadata": {},
   "outputs": [
    {
     "data": {
      "text/plain": [
       "'D000328:Adult; D000367:Age Factors; D000792:Angiography; D002545:Brain Ischemia; D002339:Carotid Arteries; D016893:Carotid Stenosis; D002536:Cerebral Arteries; D002648:Child; D018450:Disease Progression; D006261:Headache; D006801:Humans; D020300:Intracranial Hemorrhages; D008279:Magnetic Resonance Imaging; D009072:Moyamoya Disease; D020521:Stroke'"
      ]
     },
     "execution_count": 9,
     "metadata": {},
     "output_type": "execute_result"
    }
   ],
   "source": [
    "pmid_file_data['mesh_terms'][0]"
   ]
  },
  {
   "cell_type": "code",
   "execution_count": null,
   "id": "7d4a4e5a",
   "metadata": {},
   "outputs": [],
   "source": []
  }
 ],
 "metadata": {
  "kernelspec": {
   "display_name": "Python 3 (ipykernel)",
   "language": "python",
   "name": "python3"
  },
  "language_info": {
   "codemirror_mode": {
    "name": "ipython",
    "version": 3
   },
   "file_extension": ".py",
   "mimetype": "text/x-python",
   "name": "python",
   "nbconvert_exporter": "python",
   "pygments_lexer": "ipython3",
   "version": "3.9.7"
  }
 },
 "nbformat": 4,
 "nbformat_minor": 5
}
