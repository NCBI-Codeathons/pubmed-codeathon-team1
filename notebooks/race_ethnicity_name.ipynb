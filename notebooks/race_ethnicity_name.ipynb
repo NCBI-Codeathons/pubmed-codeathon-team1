{
 "cells": [
  {
   "cell_type": "code",
   "execution_count": 2,
   "id": "826c3649",
   "metadata": {
    "scrolled": true
   },
   "outputs": [],
   "source": [
    "import ethnicolr\n",
    "from ethnicolr import census_ln, pred_census_ln\n",
    "import pandas as pd\n",
    "from genderize import Genderize\n",
    "import re"
   ]
  },
  {
   "cell_type": "code",
   "execution_count": 4,
   "id": "b0ebf263",
   "metadata": {},
   "outputs": [],
   "source": [
    "#genderize = Genderize(api_key='') \n",
    "#use above if you have a Genderize API key\n",
    "genderize = Genderize()"
   ]
  },
  {
   "cell_type": "markdown",
   "id": "06cd2d18",
   "metadata": {},
   "source": [
    "Race/Ethnicity groups follow census groups, trained from US 2010 Census data\n",
    "\n",
    "Genderize is using social media data\n",
    "\n",
    "Need to install using jupyterhub account - ethnicolr needs python 3.6"
   ]
  },
  {
   "cell_type": "markdown",
   "id": "b149ed54",
   "metadata": {},
   "source": [
    "## Author Name created"
   ]
  },
  {
   "cell_type": "code",
   "execution_count": 114,
   "id": "ef1f3c43",
   "metadata": {},
   "outputs": [],
   "source": [
    "data = pd.read_csv('https://raw.githubusercontent.com/NCBI-Codeathons/pubmed-codeathon-team1/main/data/out/pmid_data.csv')"
   ]
  },
  {
   "cell_type": "code",
   "execution_count": 115,
   "id": "e0725775",
   "metadata": {},
   "outputs": [
    {
     "data": {
      "text/plain": [
       "Index(['pmid', 'query', 'search_type', 'page', 'relative_citation_ratio',\n",
       "       'human', 'animal', 'molecular_cellular', 'apt', 'is_clinical',\n",
       "       'citation_count', 'cited_by', 'references', 'title', 'abstract',\n",
       "       'journal', 'authors', 'affiliations', 'pubdate', 'mesh_terms',\n",
       "       'publication_types', 'chemical_list', 'keywords', 'languages',\n",
       "       'country'],\n",
       "      dtype='object')"
      ]
     },
     "execution_count": 115,
     "metadata": {},
     "output_type": "execute_result"
    }
   ],
   "source": [
    "data.columns"
   ]
  },
  {
   "cell_type": "code",
   "execution_count": 116,
   "id": "050b069f",
   "metadata": {
    "scrolled": true
   },
   "outputs": [
    {
     "data": {
      "text/plain": [
       "0              Moyamoya disease and moyamoya syndrome.\n",
       "1                        Progress in moyamoya disease.\n",
       "2                                    Moyamoya Disease.\n",
       "3     Moyamoya Disease: A Review of Clinical Research.\n",
       "4    Etiology and pathogenesis of Moyamoya Disease:...\n",
       "Name: title, dtype: object"
      ]
     },
     "execution_count": 116,
     "metadata": {},
     "output_type": "execute_result"
    }
   ],
   "source": [
    "data.title.head()"
   ]
  },
  {
   "cell_type": "code",
   "execution_count": 117,
   "id": "e8327af3",
   "metadata": {},
   "outputs": [
    {
     "data": {
      "text/plain": [
       "0               Scott|R Michael|RM|;Smith|Edward R|ER|\n",
       "1    Shang|Shuling|S|;Zhou|Da|D|;Ya|Jingyuan|J|;Li|...\n",
       "2    Fujimura|Miki|M|;Bang|Oh Young|OY|;Kim|Jong S|JS|\n",
       "3    Hishikawa|Tomohito|T|;Sugiu|Kenji|K|;Date|Isao|I|\n",
       "4    Huang|Shuo|S|;Guo|Zhen-Ni|ZN|;Shi|Mingchao|M|;...\n",
       "Name: authors, dtype: object"
      ]
     },
     "execution_count": 117,
     "metadata": {},
     "output_type": "execute_result"
    }
   ],
   "source": [
    "data.authors.head()"
   ]
  },
  {
   "cell_type": "code",
   "execution_count": 118,
   "id": "2fe6300d",
   "metadata": {},
   "outputs": [
    {
     "data": {
      "text/plain": [
       "7201    Khorramrouz|Fatemeh|F|;Doustmohammadian|Azam|A...\n",
       "7202    Miciak|Jeremy|J|http://orcid.org/0000-0002-066...\n",
       "7203    Kellner|Rebecca L|RL|;Agathis|Alexandra Z|AZ|;...\n",
       "7204    Cornely|Ronald M|RM|;Subramanya|Vinita|V|;Owen...\n",
       "7205    Jayaram|Lata|L|https://orcid.org/0000-0002-665...\n",
       "Name: authors, dtype: object"
      ]
     },
     "execution_count": 118,
     "metadata": {},
     "output_type": "execute_result"
    }
   ],
   "source": [
    "data.authors.tail()"
   ]
  },
  {
   "cell_type": "code",
   "execution_count": 5,
   "id": "51358ddb",
   "metadata": {},
   "outputs": [],
   "source": [
    "# To split, spliting on ; will split by author, the | will split the names. With middle names also included, for first names will get rid of any single letter words"
   ]
  },
  {
   "cell_type": "code",
   "execution_count": 119,
   "id": "7fd7e6e1",
   "metadata": {},
   "outputs": [
    {
     "data": {
      "text/plain": [
       "0       Edward\n",
       "1          Ran\n",
       "2         Jong\n",
       "3         Isao\n",
       "4       Mingli\n",
       "         ...  \n",
       "7201    Maryam\n",
       "7202     David\n",
       "7203     Brian\n",
       "7204     Ambar\n",
       "7205      Anne\n",
       "Name: authors, Length: 7206, dtype: object"
      ]
     },
     "execution_count": 119,
     "metadata": {},
     "output_type": "execute_result"
    }
   ],
   "source": [
    "data.authors.str.split(';').str[-1].str.split('|').str[1].str.split(' ').str[0]"
   ]
  },
  {
   "cell_type": "code",
   "execution_count": 120,
   "id": "83ae2c42",
   "metadata": {},
   "outputs": [
    {
     "data": {
      "text/plain": [
       "0           R\n",
       "1         NaN\n",
       "2           S\n",
       "3         NaN\n",
       "4         NaN\n",
       "        ...  \n",
       "7201      NaN\n",
       "7202        J\n",
       "7203        A\n",
       "7204      NaN\n",
       "7205    Marie\n",
       "Name: authors, Length: 7206, dtype: object"
      ]
     },
     "execution_count": 120,
     "metadata": {},
     "output_type": "execute_result"
    }
   ],
   "source": [
    "data.authors.str.split(';').str[-1].str.split('|').str[1].str.split(' ').str[1]"
   ]
  },
  {
   "cell_type": "code",
   "execution_count": 121,
   "id": "7da8707b",
   "metadata": {},
   "outputs": [
    {
     "name": "stderr",
     "output_type": "stream",
     "text": [
      "/tmp/ipykernel_267718/89657527.py:1: FutureWarning: The default value of regex will change from True to False in a future version.\n",
      "  data['LastAuthFirstName'] = data.authors.str.split(';').str[-1].str.split('|').str[1].str.replace('(\\\\b[A-Za-z] \\\\b|\\\\b [A-Za-z]\\\\b)', '')\n"
     ]
    }
   ],
   "source": [
    "data['LastAuthFirstName'] = data.authors.str.split(';').str[-1].str.split('|').str[1].str.replace('(\\\\b[A-Za-z] \\\\b|\\\\b [A-Za-z]\\\\b)', '')"
   ]
  },
  {
   "cell_type": "code",
   "execution_count": 122,
   "id": "5f020222",
   "metadata": {},
   "outputs": [
    {
     "data": {
      "text/plain": [
       "0           Edward\n",
       "1              Ran\n",
       "2             Jong\n",
       "3             Isao\n",
       "4           Mingli\n",
       "           ...    \n",
       "7201        Maryam\n",
       "7202         David\n",
       "7203         Brian\n",
       "7204         Ambar\n",
       "7205    Anne Marie\n",
       "Name: LastAuthFirstName, Length: 7206, dtype: object"
      ]
     },
     "execution_count": 122,
     "metadata": {},
     "output_type": "execute_result"
    }
   ],
   "source": [
    "data['LastAuthFirstName']"
   ]
  },
  {
   "cell_type": "code",
   "execution_count": 123,
   "id": "14352a81",
   "metadata": {},
   "outputs": [
    {
     "data": {
      "text/plain": [
       "0              Smith\n",
       "1               Meng\n",
       "2                Kim\n",
       "3               Date\n",
       "4                Rao\n",
       "            ...     \n",
       "7201        Khosravi\n",
       "7202         Francis\n",
       "7203         Coakley\n",
       "7204    Kulshreshtha\n",
       "7205       Southcott\n",
       "Name: authors, Length: 7206, dtype: object"
      ]
     },
     "execution_count": 123,
     "metadata": {},
     "output_type": "execute_result"
    }
   ],
   "source": [
    "data.authors.str.split(';').str[-1].str.split('|').str[0]"
   ]
  },
  {
   "cell_type": "code",
   "execution_count": 124,
   "id": "34e87e5d",
   "metadata": {},
   "outputs": [],
   "source": [
    "data['LastAuthLastName'] = data.authors.str.split(';').str[-1].str.split('|').str[0]"
   ]
  },
  {
   "cell_type": "code",
   "execution_count": 125,
   "id": "16e6d612",
   "metadata": {},
   "outputs": [
    {
     "data": {
      "text/plain": [
       "0             Scott\n",
       "1             Shang\n",
       "2          Fujimura\n",
       "3         Hishikawa\n",
       "4             Huang\n",
       "           ...     \n",
       "7201    Khorramrouz\n",
       "7202         Miciak\n",
       "7203        Kellner\n",
       "7204        Cornely\n",
       "7205        Jayaram\n",
       "Name: authors, Length: 7206, dtype: object"
      ]
     },
     "execution_count": 125,
     "metadata": {},
     "output_type": "execute_result"
    }
   ],
   "source": [
    "data.authors.str.split(';').str[0].str.split('|').str[0]"
   ]
  },
  {
   "cell_type": "code",
   "execution_count": 126,
   "id": "5e4473f7",
   "metadata": {},
   "outputs": [],
   "source": [
    "data['FirstAuthLastName'] = data.authors.str.split(';').str[0].str.split('|').str[0]"
   ]
  },
  {
   "cell_type": "code",
   "execution_count": 130,
   "id": "be46924c",
   "metadata": {},
   "outputs": [
    {
     "name": "stderr",
     "output_type": "stream",
     "text": [
      "/tmp/ipykernel_267718/2683773378.py:1: FutureWarning: The default value of regex will change from True to False in a future version.\n",
      "  data.authors.str.split(';').str[0].str.split('|').str[1].str.replace('(\\\\b[A-Za-z] \\\\b|\\\\b [A-Za-z]\\\\b)', '')\n"
     ]
    },
    {
     "data": {
      "text/plain": [
       "0        Michael\n",
       "1        Shuling\n",
       "2           Miki\n",
       "3       Tomohito\n",
       "4           Shuo\n",
       "          ...   \n",
       "7201     Fatemeh\n",
       "7202      Jeremy\n",
       "7203     Rebecca\n",
       "7204      Ronald\n",
       "7205        Lata\n",
       "Name: authors, Length: 7206, dtype: object"
      ]
     },
     "execution_count": 130,
     "metadata": {},
     "output_type": "execute_result"
    }
   ],
   "source": [
    "data.authors.str.split(';').str[0].str.split('|').str[1].str.replace('(\\\\b[A-Za-z] \\\\b|\\\\b [A-Za-z]\\\\b)', '')"
   ]
  },
  {
   "cell_type": "code",
   "execution_count": 131,
   "id": "17ec2d00",
   "metadata": {},
   "outputs": [
    {
     "name": "stderr",
     "output_type": "stream",
     "text": [
      "/tmp/ipykernel_267718/1639744005.py:1: FutureWarning: The default value of regex will change from True to False in a future version.\n",
      "  data.authors.str.split(';').str[0].str.split('|').str[1].str.replace('((?<=^)|(?<= )).((?=$)|(?= ))', '')\n"
     ]
    },
    {
     "data": {
      "text/plain": [
       "0        Michael\n",
       "1        Shuling\n",
       "2           Miki\n",
       "3       Tomohito\n",
       "4           Shuo\n",
       "          ...   \n",
       "7201     Fatemeh\n",
       "7202      Jeremy\n",
       "7203    Rebecca \n",
       "7204     Ronald \n",
       "7205        Lata\n",
       "Name: authors, Length: 7206, dtype: object"
      ]
     },
     "execution_count": 131,
     "metadata": {},
     "output_type": "execute_result"
    }
   ],
   "source": [
    "data.authors.str.split(';').str[0].str.split('|').str[1].str.replace('((?<=^)|(?<= )).((?=$)|(?= ))', '')"
   ]
  },
  {
   "cell_type": "code",
   "execution_count": 132,
   "id": "824ad0e3",
   "metadata": {},
   "outputs": [
    {
     "name": "stderr",
     "output_type": "stream",
     "text": [
      "/tmp/ipykernel_267718/3602760542.py:1: FutureWarning: The default value of regex will change from True to False in a future version.\n",
      "  data['FirstAuthFirstName'] = data.authors.str.split(';').str[0].str.split('|').str[1].str.replace('(\\\\b[A-Za-z] \\\\b|\\\\b [A-Za-z]\\\\b)', '')\n"
     ]
    }
   ],
   "source": [
    "data['FirstAuthFirstName'] = data.authors.str.split(';').str[0].str.split('|').str[1].str.replace('(\\\\b[A-Za-z] \\\\b|\\\\b [A-Za-z]\\\\b)', '')"
   ]
  },
  {
   "cell_type": "code",
   "execution_count": 133,
   "id": "d677545f",
   "metadata": {
    "scrolled": true
   },
   "outputs": [
    {
     "data": {
      "text/plain": [
       "Index(['pmid', 'query', 'search_type', 'page', 'relative_citation_ratio',\n",
       "       'human', 'animal', 'molecular_cellular', 'apt', 'is_clinical',\n",
       "       'citation_count', 'cited_by', 'references', 'title', 'abstract',\n",
       "       'journal', 'authors', 'affiliations', 'pubdate', 'mesh_terms',\n",
       "       'publication_types', 'chemical_list', 'keywords', 'languages',\n",
       "       'country', 'LastAuthFirstName', 'LastAuthLastName', 'FirstAuthLastName',\n",
       "       'FirstAuthFirstName'],\n",
       "      dtype='object')"
      ]
     },
     "execution_count": 133,
     "metadata": {},
     "output_type": "execute_result"
    }
   ],
   "source": [
    "data.columns"
   ]
  },
  {
   "cell_type": "code",
   "execution_count": 134,
   "id": "7e5c1279",
   "metadata": {},
   "outputs": [],
   "source": [
    "df = data[['LastAuthFirstName','FirstAuthFirstName',]]"
   ]
  },
  {
   "cell_type": "code",
   "execution_count": 135,
   "id": "fa5b2104",
   "metadata": {},
   "outputs": [
    {
     "data": {
      "text/plain": [
       "7206"
      ]
     },
     "execution_count": 135,
     "metadata": {},
     "output_type": "execute_result"
    }
   ],
   "source": [
    "len(df)"
   ]
  },
  {
   "cell_type": "markdown",
   "id": "b93cb9f5",
   "metadata": {},
   "source": [
    "## Gender calculation"
   ]
  },
  {
   "cell_type": "code",
   "execution_count": 136,
   "id": "8bac5962",
   "metadata": {},
   "outputs": [],
   "source": [
    "genderLAuthor = pd.DataFrame(genderize.get(df.LastAuthFirstName, ))"
   ]
  },
  {
   "cell_type": "code",
   "execution_count": 137,
   "id": "8ea9885d",
   "metadata": {},
   "outputs": [],
   "source": [
    "gender1Author = pd.DataFrame(genderize.get(df.FirstAuthFirstName, ))"
   ]
  },
  {
   "cell_type": "code",
   "execution_count": 138,
   "id": "e9560361",
   "metadata": {},
   "outputs": [
    {
     "data": {
      "text/html": [
       "<div>\n",
       "<style scoped>\n",
       "    .dataframe tbody tr th:only-of-type {\n",
       "        vertical-align: middle;\n",
       "    }\n",
       "\n",
       "    .dataframe tbody tr th {\n",
       "        vertical-align: top;\n",
       "    }\n",
       "\n",
       "    .dataframe thead th {\n",
       "        text-align: right;\n",
       "    }\n",
       "</style>\n",
       "<table border=\"1\" class=\"dataframe\">\n",
       "  <thead>\n",
       "    <tr style=\"text-align: right;\">\n",
       "      <th></th>\n",
       "      <th>name</th>\n",
       "      <th>gender</th>\n",
       "      <th>probability</th>\n",
       "      <th>count</th>\n",
       "      <th>p_female</th>\n",
       "      <th>p_male</th>\n",
       "    </tr>\n",
       "  </thead>\n",
       "  <tbody>\n",
       "    <tr>\n",
       "      <th>0</th>\n",
       "      <td>Edward</td>\n",
       "      <td>male</td>\n",
       "      <td>0.99</td>\n",
       "      <td>22248</td>\n",
       "      <td>0.01</td>\n",
       "      <td>0.99</td>\n",
       "    </tr>\n",
       "    <tr>\n",
       "      <th>1</th>\n",
       "      <td>Ran</td>\n",
       "      <td>male</td>\n",
       "      <td>0.58</td>\n",
       "      <td>1379</td>\n",
       "      <td>0.42</td>\n",
       "      <td>0.58</td>\n",
       "    </tr>\n",
       "    <tr>\n",
       "      <th>2</th>\n",
       "      <td>Jong</td>\n",
       "      <td>male</td>\n",
       "      <td>0.94</td>\n",
       "      <td>2523</td>\n",
       "      <td>0.06</td>\n",
       "      <td>0.94</td>\n",
       "    </tr>\n",
       "    <tr>\n",
       "      <th>3</th>\n",
       "      <td>Isao</td>\n",
       "      <td>male</td>\n",
       "      <td>0.99</td>\n",
       "      <td>326</td>\n",
       "      <td>0.01</td>\n",
       "      <td>0.99</td>\n",
       "    </tr>\n",
       "    <tr>\n",
       "      <th>4</th>\n",
       "      <td>Mingli</td>\n",
       "      <td>male</td>\n",
       "      <td>0.52</td>\n",
       "      <td>23</td>\n",
       "      <td>0.48</td>\n",
       "      <td>0.52</td>\n",
       "    </tr>\n",
       "    <tr>\n",
       "      <th>...</th>\n",
       "      <td>...</td>\n",
       "      <td>...</td>\n",
       "      <td>...</td>\n",
       "      <td>...</td>\n",
       "      <td>...</td>\n",
       "      <td>...</td>\n",
       "    </tr>\n",
       "    <tr>\n",
       "      <th>7201</th>\n",
       "      <td>Maryam</td>\n",
       "      <td>female</td>\n",
       "      <td>0.98</td>\n",
       "      <td>9767</td>\n",
       "      <td>0.98</td>\n",
       "      <td>0.02</td>\n",
       "    </tr>\n",
       "    <tr>\n",
       "      <th>7202</th>\n",
       "      <td>David</td>\n",
       "      <td>male</td>\n",
       "      <td>0.99</td>\n",
       "      <td>501011</td>\n",
       "      <td>0.01</td>\n",
       "      <td>0.99</td>\n",
       "    </tr>\n",
       "    <tr>\n",
       "      <th>7203</th>\n",
       "      <td>Brian</td>\n",
       "      <td>male</td>\n",
       "      <td>0.99</td>\n",
       "      <td>51483</td>\n",
       "      <td>0.01</td>\n",
       "      <td>0.99</td>\n",
       "    </tr>\n",
       "    <tr>\n",
       "      <th>7204</th>\n",
       "      <td>Ambar</td>\n",
       "      <td>female</td>\n",
       "      <td>0.84</td>\n",
       "      <td>748</td>\n",
       "      <td>0.84</td>\n",
       "      <td>0.16</td>\n",
       "    </tr>\n",
       "    <tr>\n",
       "      <th>7205</th>\n",
       "      <td>Anne</td>\n",
       "      <td>female</td>\n",
       "      <td>0.97</td>\n",
       "      <td>78727</td>\n",
       "      <td>0.97</td>\n",
       "      <td>0.03</td>\n",
       "    </tr>\n",
       "  </tbody>\n",
       "</table>\n",
       "<p>7206 rows × 6 columns</p>\n",
       "</div>"
      ],
      "text/plain": [
       "        name  gender  probability   count  p_female  p_male\n",
       "0     Edward    male         0.99   22248      0.01    0.99\n",
       "1        Ran    male         0.58    1379      0.42    0.58\n",
       "2       Jong    male         0.94    2523      0.06    0.94\n",
       "3       Isao    male         0.99     326      0.01    0.99\n",
       "4     Mingli    male         0.52      23      0.48    0.52\n",
       "...      ...     ...          ...     ...       ...     ...\n",
       "7201  Maryam  female         0.98    9767      0.98    0.02\n",
       "7202   David    male         0.99  501011      0.01    0.99\n",
       "7203   Brian    male         0.99   51483      0.01    0.99\n",
       "7204   Ambar  female         0.84     748      0.84    0.16\n",
       "7205    Anne  female         0.97   78727      0.97    0.03\n",
       "\n",
       "[7206 rows x 6 columns]"
      ]
     },
     "execution_count": 138,
     "metadata": {},
     "output_type": "execute_result"
    }
   ],
   "source": [
    "genderLAuthor"
   ]
  },
  {
   "cell_type": "code",
   "execution_count": 139,
   "id": "85927696",
   "metadata": {},
   "outputs": [
    {
     "data": {
      "text/html": [
       "<div>\n",
       "<style scoped>\n",
       "    .dataframe tbody tr th:only-of-type {\n",
       "        vertical-align: middle;\n",
       "    }\n",
       "\n",
       "    .dataframe tbody tr th {\n",
       "        vertical-align: top;\n",
       "    }\n",
       "\n",
       "    .dataframe thead th {\n",
       "        text-align: right;\n",
       "    }\n",
       "</style>\n",
       "<table border=\"1\" class=\"dataframe\">\n",
       "  <thead>\n",
       "    <tr style=\"text-align: right;\">\n",
       "      <th></th>\n",
       "      <th>name</th>\n",
       "      <th>gender</th>\n",
       "      <th>probability</th>\n",
       "      <th>count</th>\n",
       "    </tr>\n",
       "  </thead>\n",
       "  <tbody>\n",
       "    <tr>\n",
       "      <th>0</th>\n",
       "      <td>Michael</td>\n",
       "      <td>male</td>\n",
       "      <td>0.99</td>\n",
       "      <td>245870</td>\n",
       "    </tr>\n",
       "    <tr>\n",
       "      <th>1</th>\n",
       "      <td>Shuling</td>\n",
       "      <td>female</td>\n",
       "      <td>0.90</td>\n",
       "      <td>21</td>\n",
       "    </tr>\n",
       "    <tr>\n",
       "      <th>2</th>\n",
       "      <td>Miki</td>\n",
       "      <td>male</td>\n",
       "      <td>0.75</td>\n",
       "      <td>19891</td>\n",
       "    </tr>\n",
       "    <tr>\n",
       "      <th>3</th>\n",
       "      <td>Tomohito</td>\n",
       "      <td>male</td>\n",
       "      <td>1.00</td>\n",
       "      <td>71</td>\n",
       "    </tr>\n",
       "    <tr>\n",
       "      <th>4</th>\n",
       "      <td>Shuo</td>\n",
       "      <td>male</td>\n",
       "      <td>0.72</td>\n",
       "      <td>150</td>\n",
       "    </tr>\n",
       "    <tr>\n",
       "      <th>...</th>\n",
       "      <td>...</td>\n",
       "      <td>...</td>\n",
       "      <td>...</td>\n",
       "      <td>...</td>\n",
       "    </tr>\n",
       "    <tr>\n",
       "      <th>7201</th>\n",
       "      <td>Fatemeh</td>\n",
       "      <td>female</td>\n",
       "      <td>0.98</td>\n",
       "      <td>816</td>\n",
       "    </tr>\n",
       "    <tr>\n",
       "      <th>7202</th>\n",
       "      <td>Jeremy</td>\n",
       "      <td>male</td>\n",
       "      <td>0.99</td>\n",
       "      <td>48233</td>\n",
       "    </tr>\n",
       "    <tr>\n",
       "      <th>7203</th>\n",
       "      <td>Rebecca</td>\n",
       "      <td>female</td>\n",
       "      <td>0.98</td>\n",
       "      <td>36835</td>\n",
       "    </tr>\n",
       "    <tr>\n",
       "      <th>7204</th>\n",
       "      <td>Ronald</td>\n",
       "      <td>male</td>\n",
       "      <td>0.99</td>\n",
       "      <td>23684</td>\n",
       "    </tr>\n",
       "    <tr>\n",
       "      <th>7205</th>\n",
       "      <td>Lata</td>\n",
       "      <td>female</td>\n",
       "      <td>0.72</td>\n",
       "      <td>196</td>\n",
       "    </tr>\n",
       "  </tbody>\n",
       "</table>\n",
       "<p>7206 rows × 4 columns</p>\n",
       "</div>"
      ],
      "text/plain": [
       "          name  gender  probability   count\n",
       "0      Michael    male         0.99  245870\n",
       "1      Shuling  female         0.90      21\n",
       "2         Miki    male         0.75   19891\n",
       "3     Tomohito    male         1.00      71\n",
       "4         Shuo    male         0.72     150\n",
       "...        ...     ...          ...     ...\n",
       "7201   Fatemeh  female         0.98     816\n",
       "7202    Jeremy    male         0.99   48233\n",
       "7203   Rebecca  female         0.98   36835\n",
       "7204    Ronald    male         0.99   23684\n",
       "7205      Lata  female         0.72     196\n",
       "\n",
       "[7206 rows x 4 columns]"
      ]
     },
     "execution_count": 139,
     "metadata": {},
     "output_type": "execute_result"
    }
   ],
   "source": [
    "gender1Author"
   ]
  },
  {
   "cell_type": "code",
   "execution_count": 140,
   "id": "7a028177",
   "metadata": {},
   "outputs": [],
   "source": [
    "gender1Author.loc[gender1Author['gender']=='female', 'p_female'] = gender1Author['probability']\n",
    "gender1Author.loc[gender1Author['gender']=='female', 'p_male'] = 1 - gender1Author['probability']\n",
    "\n",
    "gender1Author.loc[gender1Author['gender']=='male', 'p_female'] = 1 - gender1Author['probability']\n",
    "gender1Author.loc[gender1Author['gender']=='male', 'p_male'] = gender1Author['probability']"
   ]
  },
  {
   "cell_type": "code",
   "execution_count": 141,
   "id": "d6205cbf",
   "metadata": {},
   "outputs": [],
   "source": [
    "genderLAuthor.loc[genderLAuthor['gender']=='female', 'p_female'] = genderLAuthor['probability']\n",
    "genderLAuthor.loc[genderLAuthor['gender']=='female', 'p_male'] = 1 - genderLAuthor['probability']\n",
    "\n",
    "genderLAuthor.loc[genderLAuthor['gender']=='male', 'p_female'] = 1 - genderLAuthor['probability']\n",
    "genderLAuthor.loc[genderLAuthor['gender']=='male', 'p_male'] = genderLAuthor['probability']"
   ]
  },
  {
   "cell_type": "code",
   "execution_count": 142,
   "id": "d3581e3b",
   "metadata": {},
   "outputs": [
    {
     "data": {
      "text/html": [
       "<div>\n",
       "<style scoped>\n",
       "    .dataframe tbody tr th:only-of-type {\n",
       "        vertical-align: middle;\n",
       "    }\n",
       "\n",
       "    .dataframe tbody tr th {\n",
       "        vertical-align: top;\n",
       "    }\n",
       "\n",
       "    .dataframe thead th {\n",
       "        text-align: right;\n",
       "    }\n",
       "</style>\n",
       "<table border=\"1\" class=\"dataframe\">\n",
       "  <thead>\n",
       "    <tr style=\"text-align: right;\">\n",
       "      <th></th>\n",
       "      <th>name</th>\n",
       "      <th>gender</th>\n",
       "      <th>probability</th>\n",
       "      <th>count</th>\n",
       "      <th>p_female</th>\n",
       "      <th>p_male</th>\n",
       "    </tr>\n",
       "  </thead>\n",
       "  <tbody>\n",
       "    <tr>\n",
       "      <th>0</th>\n",
       "      <td>Michael</td>\n",
       "      <td>male</td>\n",
       "      <td>0.99</td>\n",
       "      <td>245870</td>\n",
       "      <td>0.01</td>\n",
       "      <td>0.99</td>\n",
       "    </tr>\n",
       "    <tr>\n",
       "      <th>1</th>\n",
       "      <td>Shuling</td>\n",
       "      <td>female</td>\n",
       "      <td>0.90</td>\n",
       "      <td>21</td>\n",
       "      <td>0.90</td>\n",
       "      <td>0.10</td>\n",
       "    </tr>\n",
       "    <tr>\n",
       "      <th>2</th>\n",
       "      <td>Miki</td>\n",
       "      <td>male</td>\n",
       "      <td>0.75</td>\n",
       "      <td>19891</td>\n",
       "      <td>0.25</td>\n",
       "      <td>0.75</td>\n",
       "    </tr>\n",
       "    <tr>\n",
       "      <th>3</th>\n",
       "      <td>Tomohito</td>\n",
       "      <td>male</td>\n",
       "      <td>1.00</td>\n",
       "      <td>71</td>\n",
       "      <td>0.00</td>\n",
       "      <td>1.00</td>\n",
       "    </tr>\n",
       "    <tr>\n",
       "      <th>4</th>\n",
       "      <td>Shuo</td>\n",
       "      <td>male</td>\n",
       "      <td>0.72</td>\n",
       "      <td>150</td>\n",
       "      <td>0.28</td>\n",
       "      <td>0.72</td>\n",
       "    </tr>\n",
       "    <tr>\n",
       "      <th>...</th>\n",
       "      <td>...</td>\n",
       "      <td>...</td>\n",
       "      <td>...</td>\n",
       "      <td>...</td>\n",
       "      <td>...</td>\n",
       "      <td>...</td>\n",
       "    </tr>\n",
       "    <tr>\n",
       "      <th>7201</th>\n",
       "      <td>Fatemeh</td>\n",
       "      <td>female</td>\n",
       "      <td>0.98</td>\n",
       "      <td>816</td>\n",
       "      <td>0.98</td>\n",
       "      <td>0.02</td>\n",
       "    </tr>\n",
       "    <tr>\n",
       "      <th>7202</th>\n",
       "      <td>Jeremy</td>\n",
       "      <td>male</td>\n",
       "      <td>0.99</td>\n",
       "      <td>48233</td>\n",
       "      <td>0.01</td>\n",
       "      <td>0.99</td>\n",
       "    </tr>\n",
       "    <tr>\n",
       "      <th>7203</th>\n",
       "      <td>Rebecca</td>\n",
       "      <td>female</td>\n",
       "      <td>0.98</td>\n",
       "      <td>36835</td>\n",
       "      <td>0.98</td>\n",
       "      <td>0.02</td>\n",
       "    </tr>\n",
       "    <tr>\n",
       "      <th>7204</th>\n",
       "      <td>Ronald</td>\n",
       "      <td>male</td>\n",
       "      <td>0.99</td>\n",
       "      <td>23684</td>\n",
       "      <td>0.01</td>\n",
       "      <td>0.99</td>\n",
       "    </tr>\n",
       "    <tr>\n",
       "      <th>7205</th>\n",
       "      <td>Lata</td>\n",
       "      <td>female</td>\n",
       "      <td>0.72</td>\n",
       "      <td>196</td>\n",
       "      <td>0.72</td>\n",
       "      <td>0.28</td>\n",
       "    </tr>\n",
       "  </tbody>\n",
       "</table>\n",
       "<p>7206 rows × 6 columns</p>\n",
       "</div>"
      ],
      "text/plain": [
       "          name  gender  probability   count  p_female  p_male\n",
       "0      Michael    male         0.99  245870      0.01    0.99\n",
       "1      Shuling  female         0.90      21      0.90    0.10\n",
       "2         Miki    male         0.75   19891      0.25    0.75\n",
       "3     Tomohito    male         1.00      71      0.00    1.00\n",
       "4         Shuo    male         0.72     150      0.28    0.72\n",
       "...        ...     ...          ...     ...       ...     ...\n",
       "7201   Fatemeh  female         0.98     816      0.98    0.02\n",
       "7202    Jeremy    male         0.99   48233      0.01    0.99\n",
       "7203   Rebecca  female         0.98   36835      0.98    0.02\n",
       "7204    Ronald    male         0.99   23684      0.01    0.99\n",
       "7205      Lata  female         0.72     196      0.72    0.28\n",
       "\n",
       "[7206 rows x 6 columns]"
      ]
     },
     "execution_count": 142,
     "metadata": {},
     "output_type": "execute_result"
    }
   ],
   "source": [
    "gender1Author"
   ]
  },
  {
   "cell_type": "code",
   "execution_count": 143,
   "id": "d86b1c08",
   "metadata": {},
   "outputs": [
    {
     "data": {
      "text/plain": [
       "male      3812\n",
       "female    2592\n",
       "None       802\n",
       "Name: gender, dtype: int64"
      ]
     },
     "execution_count": 143,
     "metadata": {},
     "output_type": "execute_result"
    }
   ],
   "source": [
    "gender1Author.gender.astype(str).value_counts()"
   ]
  },
  {
   "cell_type": "code",
   "execution_count": 144,
   "id": "c48b02f0",
   "metadata": {
    "scrolled": true
   },
   "outputs": [
    {
     "data": {
      "text/plain": [
       "male      4730\n",
       "female    2063\n",
       "None       413\n",
       "Name: gender, dtype: int64"
      ]
     },
     "execution_count": 144,
     "metadata": {},
     "output_type": "execute_result"
    }
   ],
   "source": [
    "genderLAuthor.gender.astype(str).value_counts()"
   ]
  },
  {
   "cell_type": "code",
   "execution_count": 50,
   "id": "f5bed45f",
   "metadata": {},
   "outputs": [
    {
     "data": {
      "text/plain": [
       "Index(['name', 'gender', 'probability', 'count', 'p_female', 'p_male'], dtype='object')"
      ]
     },
     "execution_count": 50,
     "metadata": {},
     "output_type": "execute_result"
    }
   ],
   "source": [
    "gender1Author.columns"
   ]
  },
  {
   "cell_type": "code",
   "execution_count": 147,
   "id": "255273af",
   "metadata": {},
   "outputs": [],
   "source": [
    "gender1Author = gender1Author.rename(columns = {'gender':'gender_first_author', 'p_female':'p_first_author_female', 'p_male':'p_first_author_male'})"
   ]
  },
  {
   "cell_type": "code",
   "execution_count": 148,
   "id": "48c4ce4d",
   "metadata": {},
   "outputs": [],
   "source": [
    "genderLAuthor = genderLAuthor.rename(columns = {'gender':'gender_last_author', 'p_female':'p_last_author_female', 'p_male':'p_last_author_male'})"
   ]
  },
  {
   "cell_type": "code",
   "execution_count": 169,
   "id": "d0adb246",
   "metadata": {},
   "outputs": [
    {
     "data": {
      "text/plain": [
       "7206"
      ]
     },
     "execution_count": 169,
     "metadata": {},
     "output_type": "execute_result"
    }
   ],
   "source": [
    "len(data)"
   ]
  },
  {
   "cell_type": "code",
   "execution_count": 155,
   "id": "a44e53f5",
   "metadata": {},
   "outputs": [
    {
     "data": {
      "text/plain": [
       "7206"
      ]
     },
     "execution_count": 155,
     "metadata": {},
     "output_type": "execute_result"
    }
   ],
   "source": [
    "len(genderLAuthor)"
   ]
  },
  {
   "cell_type": "code",
   "execution_count": 156,
   "id": "80730899",
   "metadata": {},
   "outputs": [
    {
     "data": {
      "text/plain": [
       "Index(['pmid', 'query', 'search_type', 'page', 'relative_citation_ratio',\n",
       "       'human', 'animal', 'molecular_cellular', 'apt', 'is_clinical',\n",
       "       'citation_count', 'cited_by', 'references', 'title', 'abstract',\n",
       "       'journal', 'authors', 'affiliations', 'pubdate', 'mesh_terms',\n",
       "       'publication_types', 'chemical_list', 'keywords', 'languages',\n",
       "       'country', 'LastAuthFirstName', 'LastAuthLastName', 'FirstAuthLastName',\n",
       "       'FirstAuthFirstName'],\n",
       "      dtype='object')"
      ]
     },
     "execution_count": 156,
     "metadata": {},
     "output_type": "execute_result"
    }
   ],
   "source": [
    "data.columns"
   ]
  },
  {
   "cell_type": "code",
   "execution_count": 176,
   "id": "0222bab6",
   "metadata": {},
   "outputs": [],
   "source": [
    "data1 = data.join(genderLAuthor)"
   ]
  },
  {
   "cell_type": "code",
   "execution_count": 177,
   "id": "45bd1a2b",
   "metadata": {},
   "outputs": [
    {
     "data": {
      "text/plain": [
       "7206"
      ]
     },
     "execution_count": 177,
     "metadata": {},
     "output_type": "execute_result"
    }
   ],
   "source": [
    "len(data1)"
   ]
  },
  {
   "cell_type": "code",
   "execution_count": 179,
   "id": "24e9069d",
   "metadata": {},
   "outputs": [],
   "source": [
    "data1 = data1.join(gender1Author, lsuffix='lastauthor', rsuffix='firstauthor')"
   ]
  },
  {
   "cell_type": "code",
   "execution_count": 180,
   "id": "2b465c9c",
   "metadata": {},
   "outputs": [
    {
     "data": {
      "text/plain": [
       "7206"
      ]
     },
     "execution_count": 180,
     "metadata": {},
     "output_type": "execute_result"
    }
   ],
   "source": [
    "len(data1)"
   ]
  },
  {
   "cell_type": "code",
   "execution_count": 181,
   "id": "94b5331d",
   "metadata": {},
   "outputs": [
    {
     "data": {
      "text/html": [
       "<div>\n",
       "<style scoped>\n",
       "    .dataframe tbody tr th:only-of-type {\n",
       "        vertical-align: middle;\n",
       "    }\n",
       "\n",
       "    .dataframe tbody tr th {\n",
       "        vertical-align: top;\n",
       "    }\n",
       "\n",
       "    .dataframe thead th {\n",
       "        text-align: right;\n",
       "    }\n",
       "</style>\n",
       "<table border=\"1\" class=\"dataframe\">\n",
       "  <thead>\n",
       "    <tr style=\"text-align: right;\">\n",
       "      <th></th>\n",
       "      <th>pmid</th>\n",
       "      <th>query</th>\n",
       "      <th>search_type</th>\n",
       "      <th>page</th>\n",
       "      <th>relative_citation_ratio</th>\n",
       "      <th>human</th>\n",
       "      <th>animal</th>\n",
       "      <th>molecular_cellular</th>\n",
       "      <th>apt</th>\n",
       "      <th>is_clinical</th>\n",
       "      <th>...</th>\n",
       "      <th>probabilitylastauthor</th>\n",
       "      <th>countlastauthor</th>\n",
       "      <th>p_last_author_female</th>\n",
       "      <th>p_last_author_male</th>\n",
       "      <th>namefirstauthor</th>\n",
       "      <th>gender_first_author</th>\n",
       "      <th>probabilityfirstauthor</th>\n",
       "      <th>countfirstauthor</th>\n",
       "      <th>p_first_author_female</th>\n",
       "      <th>p_first_author_male</th>\n",
       "    </tr>\n",
       "  </thead>\n",
       "  <tbody>\n",
       "    <tr>\n",
       "      <th>0</th>\n",
       "      <td>19297575</td>\n",
       "      <td>Moyamoya</td>\n",
       "      <td>relevance</td>\n",
       "      <td>1</td>\n",
       "      <td>29.60</td>\n",
       "      <td>1.0</td>\n",
       "      <td>0.0</td>\n",
       "      <td>0.0</td>\n",
       "      <td>0.95</td>\n",
       "      <td>No</td>\n",
       "      <td>...</td>\n",
       "      <td>0.99</td>\n",
       "      <td>22248</td>\n",
       "      <td>0.01</td>\n",
       "      <td>0.99</td>\n",
       "      <td>Michael</td>\n",
       "      <td>male</td>\n",
       "      <td>0.99</td>\n",
       "      <td>245870</td>\n",
       "      <td>0.01</td>\n",
       "      <td>0.99</td>\n",
       "    </tr>\n",
       "    <tr>\n",
       "      <th>1</th>\n",
       "      <td>29911252</td>\n",
       "      <td>Moyamoya</td>\n",
       "      <td>relevance</td>\n",
       "      <td>1</td>\n",
       "      <td>9.28</td>\n",
       "      <td>1.0</td>\n",
       "      <td>0.0</td>\n",
       "      <td>0.0</td>\n",
       "      <td>0.95</td>\n",
       "      <td>No</td>\n",
       "      <td>...</td>\n",
       "      <td>0.58</td>\n",
       "      <td>1379</td>\n",
       "      <td>0.42</td>\n",
       "      <td>0.58</td>\n",
       "      <td>Shuling</td>\n",
       "      <td>female</td>\n",
       "      <td>0.90</td>\n",
       "      <td>21</td>\n",
       "      <td>0.90</td>\n",
       "      <td>0.10</td>\n",
       "    </tr>\n",
       "    <tr>\n",
       "      <th>2</th>\n",
       "      <td>27960175</td>\n",
       "      <td>Moyamoya</td>\n",
       "      <td>relevance</td>\n",
       "      <td>1</td>\n",
       "      <td>2.81</td>\n",
       "      <td>1.0</td>\n",
       "      <td>0.0</td>\n",
       "      <td>0.0</td>\n",
       "      <td>0.95</td>\n",
       "      <td>No</td>\n",
       "      <td>...</td>\n",
       "      <td>0.94</td>\n",
       "      <td>2523</td>\n",
       "      <td>0.06</td>\n",
       "      <td>0.94</td>\n",
       "      <td>Miki</td>\n",
       "      <td>male</td>\n",
       "      <td>0.75</td>\n",
       "      <td>19891</td>\n",
       "      <td>0.25</td>\n",
       "      <td>0.75</td>\n",
       "    </tr>\n",
       "    <tr>\n",
       "      <th>3</th>\n",
       "      <td>27549666</td>\n",
       "      <td>Moyamoya</td>\n",
       "      <td>relevance</td>\n",
       "      <td>1</td>\n",
       "      <td>2.39</td>\n",
       "      <td>1.0</td>\n",
       "      <td>0.0</td>\n",
       "      <td>0.0</td>\n",
       "      <td>0.75</td>\n",
       "      <td>No</td>\n",
       "      <td>...</td>\n",
       "      <td>0.99</td>\n",
       "      <td>326</td>\n",
       "      <td>0.01</td>\n",
       "      <td>0.99</td>\n",
       "      <td>Tomohito</td>\n",
       "      <td>male</td>\n",
       "      <td>1.00</td>\n",
       "      <td>71</td>\n",
       "      <td>0.00</td>\n",
       "      <td>1.00</td>\n",
       "    </tr>\n",
       "    <tr>\n",
       "      <th>4</th>\n",
       "      <td>28381201</td>\n",
       "      <td>Moyamoya</td>\n",
       "      <td>relevance</td>\n",
       "      <td>1</td>\n",
       "      <td>2.76</td>\n",
       "      <td>0.5</td>\n",
       "      <td>0.5</td>\n",
       "      <td>0.0</td>\n",
       "      <td>0.75</td>\n",
       "      <td>No</td>\n",
       "      <td>...</td>\n",
       "      <td>0.52</td>\n",
       "      <td>23</td>\n",
       "      <td>0.48</td>\n",
       "      <td>0.52</td>\n",
       "      <td>Shuo</td>\n",
       "      <td>male</td>\n",
       "      <td>0.72</td>\n",
       "      <td>150</td>\n",
       "      <td>0.28</td>\n",
       "      <td>0.72</td>\n",
       "    </tr>\n",
       "    <tr>\n",
       "      <th>...</th>\n",
       "      <td>...</td>\n",
       "      <td>...</td>\n",
       "      <td>...</td>\n",
       "      <td>...</td>\n",
       "      <td>...</td>\n",
       "      <td>...</td>\n",
       "      <td>...</td>\n",
       "      <td>...</td>\n",
       "      <td>...</td>\n",
       "      <td>...</td>\n",
       "      <td>...</td>\n",
       "      <td>...</td>\n",
       "      <td>...</td>\n",
       "      <td>...</td>\n",
       "      <td>...</td>\n",
       "      <td>...</td>\n",
       "      <td>...</td>\n",
       "      <td>...</td>\n",
       "      <td>...</td>\n",
       "      <td>...</td>\n",
       "      <td>...</td>\n",
       "    </tr>\n",
       "    <tr>\n",
       "      <th>7201</th>\n",
       "      <td>33988094</td>\n",
       "      <td>literacy skills</td>\n",
       "      <td>pubdate_desc</td>\n",
       "      <td>2</td>\n",
       "      <td>NaN</td>\n",
       "      <td>1.0</td>\n",
       "      <td>0.0</td>\n",
       "      <td>0.0</td>\n",
       "      <td>0.25</td>\n",
       "      <td>No</td>\n",
       "      <td>...</td>\n",
       "      <td>0.98</td>\n",
       "      <td>9767</td>\n",
       "      <td>0.98</td>\n",
       "      <td>0.02</td>\n",
       "      <td>Fatemeh</td>\n",
       "      <td>female</td>\n",
       "      <td>0.98</td>\n",
       "      <td>816</td>\n",
       "      <td>0.98</td>\n",
       "      <td>0.02</td>\n",
       "    </tr>\n",
       "    <tr>\n",
       "      <th>7202</th>\n",
       "      <td>35608744</td>\n",
       "      <td>literacy skills</td>\n",
       "      <td>pubdate_desc</td>\n",
       "      <td>2</td>\n",
       "      <td>NaN</td>\n",
       "      <td>0.0</td>\n",
       "      <td>0.0</td>\n",
       "      <td>0.0</td>\n",
       "      <td>0.00</td>\n",
       "      <td>No</td>\n",
       "      <td>...</td>\n",
       "      <td>0.99</td>\n",
       "      <td>501011</td>\n",
       "      <td>0.01</td>\n",
       "      <td>0.99</td>\n",
       "      <td>Jeremy</td>\n",
       "      <td>male</td>\n",
       "      <td>0.99</td>\n",
       "      <td>48233</td>\n",
       "      <td>0.01</td>\n",
       "      <td>0.99</td>\n",
       "    </tr>\n",
       "    <tr>\n",
       "      <th>7203</th>\n",
       "      <td>35603494</td>\n",
       "      <td>literacy skills</td>\n",
       "      <td>pubdate_desc</td>\n",
       "      <td>2</td>\n",
       "      <td>NaN</td>\n",
       "      <td>1.0</td>\n",
       "      <td>0.0</td>\n",
       "      <td>0.0</td>\n",
       "      <td>0.00</td>\n",
       "      <td>No</td>\n",
       "      <td>...</td>\n",
       "      <td>0.99</td>\n",
       "      <td>51483</td>\n",
       "      <td>0.01</td>\n",
       "      <td>0.99</td>\n",
       "      <td>Rebecca</td>\n",
       "      <td>female</td>\n",
       "      <td>0.98</td>\n",
       "      <td>36835</td>\n",
       "      <td>0.98</td>\n",
       "      <td>0.02</td>\n",
       "    </tr>\n",
       "    <tr>\n",
       "      <th>7204</th>\n",
       "      <td>35597972</td>\n",
       "      <td>literacy skills</td>\n",
       "      <td>pubdate_desc</td>\n",
       "      <td>2</td>\n",
       "      <td>NaN</td>\n",
       "      <td>1.0</td>\n",
       "      <td>0.0</td>\n",
       "      <td>0.0</td>\n",
       "      <td>0.00</td>\n",
       "      <td>No</td>\n",
       "      <td>...</td>\n",
       "      <td>0.84</td>\n",
       "      <td>748</td>\n",
       "      <td>0.84</td>\n",
       "      <td>0.16</td>\n",
       "      <td>Ronald</td>\n",
       "      <td>male</td>\n",
       "      <td>0.99</td>\n",
       "      <td>23684</td>\n",
       "      <td>0.01</td>\n",
       "      <td>0.99</td>\n",
       "    </tr>\n",
       "    <tr>\n",
       "      <th>7205</th>\n",
       "      <td>35596530</td>\n",
       "      <td>literacy skills</td>\n",
       "      <td>pubdate_desc</td>\n",
       "      <td>2</td>\n",
       "      <td>NaN</td>\n",
       "      <td>1.0</td>\n",
       "      <td>0.0</td>\n",
       "      <td>0.0</td>\n",
       "      <td>0.00</td>\n",
       "      <td>No</td>\n",
       "      <td>...</td>\n",
       "      <td>0.97</td>\n",
       "      <td>78727</td>\n",
       "      <td>0.97</td>\n",
       "      <td>0.03</td>\n",
       "      <td>Lata</td>\n",
       "      <td>female</td>\n",
       "      <td>0.72</td>\n",
       "      <td>196</td>\n",
       "      <td>0.72</td>\n",
       "      <td>0.28</td>\n",
       "    </tr>\n",
       "  </tbody>\n",
       "</table>\n",
       "<p>7206 rows × 41 columns</p>\n",
       "</div>"
      ],
      "text/plain": [
       "          pmid            query   search_type  page  relative_citation_ratio  \\\n",
       "0     19297575         Moyamoya     relevance     1                    29.60   \n",
       "1     29911252         Moyamoya     relevance     1                     9.28   \n",
       "2     27960175         Moyamoya     relevance     1                     2.81   \n",
       "3     27549666         Moyamoya     relevance     1                     2.39   \n",
       "4     28381201         Moyamoya     relevance     1                     2.76   \n",
       "...        ...              ...           ...   ...                      ...   \n",
       "7201  33988094  literacy skills  pubdate_desc     2                      NaN   \n",
       "7202  35608744  literacy skills  pubdate_desc     2                      NaN   \n",
       "7203  35603494  literacy skills  pubdate_desc     2                      NaN   \n",
       "7204  35597972  literacy skills  pubdate_desc     2                      NaN   \n",
       "7205  35596530  literacy skills  pubdate_desc     2                      NaN   \n",
       "\n",
       "      human  animal  molecular_cellular   apt is_clinical  ...  \\\n",
       "0       1.0     0.0                 0.0  0.95          No  ...   \n",
       "1       1.0     0.0                 0.0  0.95          No  ...   \n",
       "2       1.0     0.0                 0.0  0.95          No  ...   \n",
       "3       1.0     0.0                 0.0  0.75          No  ...   \n",
       "4       0.5     0.5                 0.0  0.75          No  ...   \n",
       "...     ...     ...                 ...   ...         ...  ...   \n",
       "7201    1.0     0.0                 0.0  0.25          No  ...   \n",
       "7202    0.0     0.0                 0.0  0.00          No  ...   \n",
       "7203    1.0     0.0                 0.0  0.00          No  ...   \n",
       "7204    1.0     0.0                 0.0  0.00          No  ...   \n",
       "7205    1.0     0.0                 0.0  0.00          No  ...   \n",
       "\n",
       "      probabilitylastauthor countlastauthor p_last_author_female  \\\n",
       "0                      0.99           22248                 0.01   \n",
       "1                      0.58            1379                 0.42   \n",
       "2                      0.94            2523                 0.06   \n",
       "3                      0.99             326                 0.01   \n",
       "4                      0.52              23                 0.48   \n",
       "...                     ...             ...                  ...   \n",
       "7201                   0.98            9767                 0.98   \n",
       "7202                   0.99          501011                 0.01   \n",
       "7203                   0.99           51483                 0.01   \n",
       "7204                   0.84             748                 0.84   \n",
       "7205                   0.97           78727                 0.97   \n",
       "\n",
       "     p_last_author_male namefirstauthor gender_first_author  \\\n",
       "0                  0.99         Michael                male   \n",
       "1                  0.58         Shuling              female   \n",
       "2                  0.94            Miki                male   \n",
       "3                  0.99        Tomohito                male   \n",
       "4                  0.52            Shuo                male   \n",
       "...                 ...             ...                 ...   \n",
       "7201               0.02         Fatemeh              female   \n",
       "7202               0.99          Jeremy                male   \n",
       "7203               0.99         Rebecca              female   \n",
       "7204               0.16          Ronald                male   \n",
       "7205               0.03            Lata              female   \n",
       "\n",
       "     probabilityfirstauthor countfirstauthor  p_first_author_female  \\\n",
       "0                      0.99           245870                   0.01   \n",
       "1                      0.90               21                   0.90   \n",
       "2                      0.75            19891                   0.25   \n",
       "3                      1.00               71                   0.00   \n",
       "4                      0.72              150                   0.28   \n",
       "...                     ...              ...                    ...   \n",
       "7201                   0.98              816                   0.98   \n",
       "7202                   0.99            48233                   0.01   \n",
       "7203                   0.98            36835                   0.98   \n",
       "7204                   0.99            23684                   0.01   \n",
       "7205                   0.72              196                   0.72   \n",
       "\n",
       "     p_first_author_male  \n",
       "0                   0.99  \n",
       "1                   0.10  \n",
       "2                   0.75  \n",
       "3                   1.00  \n",
       "4                   0.72  \n",
       "...                  ...  \n",
       "7201                0.02  \n",
       "7202                0.99  \n",
       "7203                0.02  \n",
       "7204                0.99  \n",
       "7205                0.28  \n",
       "\n",
       "[7206 rows x 41 columns]"
      ]
     },
     "execution_count": 181,
     "metadata": {},
     "output_type": "execute_result"
    }
   ],
   "source": [
    "data1"
   ]
  },
  {
   "cell_type": "markdown",
   "id": "8dffd9b0",
   "metadata": {},
   "source": [
    "## Race Ethnicity"
   ]
  },
  {
   "cell_type": "code",
   "execution_count": 185,
   "id": "9f5f92c5",
   "metadata": {},
   "outputs": [],
   "source": [
    "RaceEthGroup1st = {'pctwhite':'firstauthor_percent_white', 'pctblack':'firstauthor_percent_black', 'pctapi':'firstauthor_percent_asian', 'pctaian':'firstauthor_percent_american_indian_alaskan_native', 'pct2prace':'firstauthor_percent_multi_race', 'pcthispanic':'firstauthor_percent_hispanic'}"
   ]
  },
  {
   "cell_type": "code",
   "execution_count": 183,
   "id": "2b33a88e",
   "metadata": {},
   "outputs": [],
   "source": [
    " dre = census_ln(data, 'FirstAuthLastName')"
   ]
  },
  {
   "cell_type": "code",
   "execution_count": 184,
   "id": "1ea85186",
   "metadata": {},
   "outputs": [
    {
     "data": {
      "text/html": [
       "<div>\n",
       "<style scoped>\n",
       "    .dataframe tbody tr th:only-of-type {\n",
       "        vertical-align: middle;\n",
       "    }\n",
       "\n",
       "    .dataframe tbody tr th {\n",
       "        vertical-align: top;\n",
       "    }\n",
       "\n",
       "    .dataframe thead th {\n",
       "        text-align: right;\n",
       "    }\n",
       "</style>\n",
       "<table border=\"1\" class=\"dataframe\">\n",
       "  <thead>\n",
       "    <tr style=\"text-align: right;\">\n",
       "      <th></th>\n",
       "      <th>pmid</th>\n",
       "      <th>query</th>\n",
       "      <th>search_type</th>\n",
       "      <th>page</th>\n",
       "      <th>relative_citation_ratio</th>\n",
       "      <th>human</th>\n",
       "      <th>animal</th>\n",
       "      <th>molecular_cellular</th>\n",
       "      <th>apt</th>\n",
       "      <th>is_clinical</th>\n",
       "      <th>...</th>\n",
       "      <th>LastAuthFirstName</th>\n",
       "      <th>LastAuthLastName</th>\n",
       "      <th>FirstAuthLastName</th>\n",
       "      <th>FirstAuthFirstName</th>\n",
       "      <th>pctwhite</th>\n",
       "      <th>pctblack</th>\n",
       "      <th>pctapi</th>\n",
       "      <th>pctaian</th>\n",
       "      <th>pct2prace</th>\n",
       "      <th>pcthispanic</th>\n",
       "    </tr>\n",
       "  </thead>\n",
       "  <tbody>\n",
       "    <tr>\n",
       "      <th>0</th>\n",
       "      <td>19297575</td>\n",
       "      <td>Moyamoya</td>\n",
       "      <td>relevance</td>\n",
       "      <td>1</td>\n",
       "      <td>29.60</td>\n",
       "      <td>1.0</td>\n",
       "      <td>0.0</td>\n",
       "      <td>0.0</td>\n",
       "      <td>0.95</td>\n",
       "      <td>No</td>\n",
       "      <td>...</td>\n",
       "      <td>Edward</td>\n",
       "      <td>Smith</td>\n",
       "      <td>Scott</td>\n",
       "      <td>Michael</td>\n",
       "      <td>62.60</td>\n",
       "      <td>32.26</td>\n",
       "      <td>0.41</td>\n",
       "      <td>1.15</td>\n",
       "      <td>1.90</td>\n",
       "      <td>1.68</td>\n",
       "    </tr>\n",
       "    <tr>\n",
       "      <th>1</th>\n",
       "      <td>29911252</td>\n",
       "      <td>Moyamoya</td>\n",
       "      <td>relevance</td>\n",
       "      <td>1</td>\n",
       "      <td>9.28</td>\n",
       "      <td>1.0</td>\n",
       "      <td>0.0</td>\n",
       "      <td>0.0</td>\n",
       "      <td>0.95</td>\n",
       "      <td>No</td>\n",
       "      <td>...</td>\n",
       "      <td>Ran</td>\n",
       "      <td>Meng</td>\n",
       "      <td>Shang</td>\n",
       "      <td>Shuling</td>\n",
       "      <td>7.63</td>\n",
       "      <td>1.66</td>\n",
       "      <td>88.49</td>\n",
       "      <td>0.00</td>\n",
       "      <td>1.39</td>\n",
       "      <td>0.83</td>\n",
       "    </tr>\n",
       "    <tr>\n",
       "      <th>2</th>\n",
       "      <td>27960175</td>\n",
       "      <td>Moyamoya</td>\n",
       "      <td>relevance</td>\n",
       "      <td>1</td>\n",
       "      <td>2.81</td>\n",
       "      <td>1.0</td>\n",
       "      <td>0.0</td>\n",
       "      <td>0.0</td>\n",
       "      <td>0.95</td>\n",
       "      <td>No</td>\n",
       "      <td>...</td>\n",
       "      <td>Jong</td>\n",
       "      <td>Kim</td>\n",
       "      <td>Fujimura</td>\n",
       "      <td>Miki</td>\n",
       "      <td>6.05</td>\n",
       "      <td>(S)</td>\n",
       "      <td>84.08</td>\n",
       "      <td>0.00</td>\n",
       "      <td>8.92</td>\n",
       "      <td>(S)</td>\n",
       "    </tr>\n",
       "    <tr>\n",
       "      <th>3</th>\n",
       "      <td>27549666</td>\n",
       "      <td>Moyamoya</td>\n",
       "      <td>relevance</td>\n",
       "      <td>1</td>\n",
       "      <td>2.39</td>\n",
       "      <td>1.0</td>\n",
       "      <td>0.0</td>\n",
       "      <td>0.0</td>\n",
       "      <td>0.75</td>\n",
       "      <td>No</td>\n",
       "      <td>...</td>\n",
       "      <td>Isao</td>\n",
       "      <td>Date</td>\n",
       "      <td>Hishikawa</td>\n",
       "      <td>Tomohito</td>\n",
       "      <td>NaN</td>\n",
       "      <td>NaN</td>\n",
       "      <td>NaN</td>\n",
       "      <td>NaN</td>\n",
       "      <td>NaN</td>\n",
       "      <td>NaN</td>\n",
       "    </tr>\n",
       "    <tr>\n",
       "      <th>4</th>\n",
       "      <td>28381201</td>\n",
       "      <td>Moyamoya</td>\n",
       "      <td>relevance</td>\n",
       "      <td>1</td>\n",
       "      <td>2.76</td>\n",
       "      <td>0.5</td>\n",
       "      <td>0.5</td>\n",
       "      <td>0.0</td>\n",
       "      <td>0.75</td>\n",
       "      <td>No</td>\n",
       "      <td>...</td>\n",
       "      <td>Mingli</td>\n",
       "      <td>Rao</td>\n",
       "      <td>Huang</td>\n",
       "      <td>Shuo</td>\n",
       "      <td>1.03</td>\n",
       "      <td>0.09</td>\n",
       "      <td>96.83</td>\n",
       "      <td>0.02</td>\n",
       "      <td>1.74</td>\n",
       "      <td>0.29</td>\n",
       "    </tr>\n",
       "  </tbody>\n",
       "</table>\n",
       "<p>5 rows × 35 columns</p>\n",
       "</div>"
      ],
      "text/plain": [
       "       pmid     query search_type  page  relative_citation_ratio  human  \\\n",
       "0  19297575  Moyamoya   relevance     1                    29.60    1.0   \n",
       "1  29911252  Moyamoya   relevance     1                     9.28    1.0   \n",
       "2  27960175  Moyamoya   relevance     1                     2.81    1.0   \n",
       "3  27549666  Moyamoya   relevance     1                     2.39    1.0   \n",
       "4  28381201  Moyamoya   relevance     1                     2.76    0.5   \n",
       "\n",
       "   animal  molecular_cellular   apt is_clinical  ...  LastAuthFirstName  \\\n",
       "0     0.0                 0.0  0.95          No  ...             Edward   \n",
       "1     0.0                 0.0  0.95          No  ...                Ran   \n",
       "2     0.0                 0.0  0.95          No  ...               Jong   \n",
       "3     0.0                 0.0  0.75          No  ...               Isao   \n",
       "4     0.5                 0.0  0.75          No  ...             Mingli   \n",
       "\n",
       "  LastAuthLastName FirstAuthLastName FirstAuthFirstName pctwhite pctblack  \\\n",
       "0            Smith             Scott            Michael    62.60    32.26   \n",
       "1             Meng             Shang            Shuling     7.63     1.66   \n",
       "2              Kim          Fujimura               Miki     6.05      (S)   \n",
       "3             Date         Hishikawa           Tomohito      NaN      NaN   \n",
       "4              Rao             Huang               Shuo     1.03     0.09   \n",
       "\n",
       "  pctapi pctaian  pct2prace pcthispanic  \n",
       "0   0.41    1.15       1.90        1.68  \n",
       "1  88.49    0.00       1.39        0.83  \n",
       "2  84.08    0.00       8.92         (S)  \n",
       "3    NaN     NaN        NaN         NaN  \n",
       "4  96.83    0.02       1.74        0.29  \n",
       "\n",
       "[5 rows x 35 columns]"
      ]
     },
     "execution_count": 184,
     "metadata": {},
     "output_type": "execute_result"
    }
   ],
   "source": [
    "dre.head()"
   ]
  },
  {
   "cell_type": "code",
   "execution_count": 187,
   "id": "458055f7",
   "metadata": {},
   "outputs": [],
   "source": [
    "dre = dre.rename(columns = RaceEthGroup1st)\n"
   ]
  },
  {
   "cell_type": "code",
   "execution_count": 188,
   "id": "5ce8cd3f",
   "metadata": {
    "scrolled": true
   },
   "outputs": [
    {
     "data": {
      "text/html": [
       "<div>\n",
       "<style scoped>\n",
       "    .dataframe tbody tr th:only-of-type {\n",
       "        vertical-align: middle;\n",
       "    }\n",
       "\n",
       "    .dataframe tbody tr th {\n",
       "        vertical-align: top;\n",
       "    }\n",
       "\n",
       "    .dataframe thead th {\n",
       "        text-align: right;\n",
       "    }\n",
       "</style>\n",
       "<table border=\"1\" class=\"dataframe\">\n",
       "  <thead>\n",
       "    <tr style=\"text-align: right;\">\n",
       "      <th></th>\n",
       "      <th>pmid</th>\n",
       "      <th>query</th>\n",
       "      <th>search_type</th>\n",
       "      <th>page</th>\n",
       "      <th>relative_citation_ratio</th>\n",
       "      <th>human</th>\n",
       "      <th>animal</th>\n",
       "      <th>molecular_cellular</th>\n",
       "      <th>apt</th>\n",
       "      <th>is_clinical</th>\n",
       "      <th>...</th>\n",
       "      <th>LastAuthFirstName</th>\n",
       "      <th>LastAuthLastName</th>\n",
       "      <th>FirstAuthLastName</th>\n",
       "      <th>FirstAuthFirstName</th>\n",
       "      <th>firstauthor_percent_white</th>\n",
       "      <th>firstauthor_percent_black</th>\n",
       "      <th>firstauthor_percent_asian</th>\n",
       "      <th>firstauthor_percent_american_indian_alaskan_native</th>\n",
       "      <th>firstauthor_percent_multi_race</th>\n",
       "      <th>firstauthor_percent_hispanic</th>\n",
       "    </tr>\n",
       "  </thead>\n",
       "  <tbody>\n",
       "    <tr>\n",
       "      <th>0</th>\n",
       "      <td>19297575</td>\n",
       "      <td>Moyamoya</td>\n",
       "      <td>relevance</td>\n",
       "      <td>1</td>\n",
       "      <td>29.60</td>\n",
       "      <td>1.0</td>\n",
       "      <td>0.0</td>\n",
       "      <td>0.0</td>\n",
       "      <td>0.95</td>\n",
       "      <td>No</td>\n",
       "      <td>...</td>\n",
       "      <td>Edward</td>\n",
       "      <td>Smith</td>\n",
       "      <td>Scott</td>\n",
       "      <td>Michael</td>\n",
       "      <td>62.60</td>\n",
       "      <td>32.26</td>\n",
       "      <td>0.41</td>\n",
       "      <td>1.15</td>\n",
       "      <td>1.90</td>\n",
       "      <td>1.68</td>\n",
       "    </tr>\n",
       "    <tr>\n",
       "      <th>1</th>\n",
       "      <td>29911252</td>\n",
       "      <td>Moyamoya</td>\n",
       "      <td>relevance</td>\n",
       "      <td>1</td>\n",
       "      <td>9.28</td>\n",
       "      <td>1.0</td>\n",
       "      <td>0.0</td>\n",
       "      <td>0.0</td>\n",
       "      <td>0.95</td>\n",
       "      <td>No</td>\n",
       "      <td>...</td>\n",
       "      <td>Ran</td>\n",
       "      <td>Meng</td>\n",
       "      <td>Shang</td>\n",
       "      <td>Shuling</td>\n",
       "      <td>7.63</td>\n",
       "      <td>1.66</td>\n",
       "      <td>88.49</td>\n",
       "      <td>0.00</td>\n",
       "      <td>1.39</td>\n",
       "      <td>0.83</td>\n",
       "    </tr>\n",
       "    <tr>\n",
       "      <th>2</th>\n",
       "      <td>27960175</td>\n",
       "      <td>Moyamoya</td>\n",
       "      <td>relevance</td>\n",
       "      <td>1</td>\n",
       "      <td>2.81</td>\n",
       "      <td>1.0</td>\n",
       "      <td>0.0</td>\n",
       "      <td>0.0</td>\n",
       "      <td>0.95</td>\n",
       "      <td>No</td>\n",
       "      <td>...</td>\n",
       "      <td>Jong</td>\n",
       "      <td>Kim</td>\n",
       "      <td>Fujimura</td>\n",
       "      <td>Miki</td>\n",
       "      <td>6.05</td>\n",
       "      <td>(S)</td>\n",
       "      <td>84.08</td>\n",
       "      <td>0.00</td>\n",
       "      <td>8.92</td>\n",
       "      <td>(S)</td>\n",
       "    </tr>\n",
       "    <tr>\n",
       "      <th>3</th>\n",
       "      <td>27549666</td>\n",
       "      <td>Moyamoya</td>\n",
       "      <td>relevance</td>\n",
       "      <td>1</td>\n",
       "      <td>2.39</td>\n",
       "      <td>1.0</td>\n",
       "      <td>0.0</td>\n",
       "      <td>0.0</td>\n",
       "      <td>0.75</td>\n",
       "      <td>No</td>\n",
       "      <td>...</td>\n",
       "      <td>Isao</td>\n",
       "      <td>Date</td>\n",
       "      <td>Hishikawa</td>\n",
       "      <td>Tomohito</td>\n",
       "      <td>NaN</td>\n",
       "      <td>NaN</td>\n",
       "      <td>NaN</td>\n",
       "      <td>NaN</td>\n",
       "      <td>NaN</td>\n",
       "      <td>NaN</td>\n",
       "    </tr>\n",
       "    <tr>\n",
       "      <th>4</th>\n",
       "      <td>28381201</td>\n",
       "      <td>Moyamoya</td>\n",
       "      <td>relevance</td>\n",
       "      <td>1</td>\n",
       "      <td>2.76</td>\n",
       "      <td>0.5</td>\n",
       "      <td>0.5</td>\n",
       "      <td>0.0</td>\n",
       "      <td>0.75</td>\n",
       "      <td>No</td>\n",
       "      <td>...</td>\n",
       "      <td>Mingli</td>\n",
       "      <td>Rao</td>\n",
       "      <td>Huang</td>\n",
       "      <td>Shuo</td>\n",
       "      <td>1.03</td>\n",
       "      <td>0.09</td>\n",
       "      <td>96.83</td>\n",
       "      <td>0.02</td>\n",
       "      <td>1.74</td>\n",
       "      <td>0.29</td>\n",
       "    </tr>\n",
       "  </tbody>\n",
       "</table>\n",
       "<p>5 rows × 35 columns</p>\n",
       "</div>"
      ],
      "text/plain": [
       "       pmid     query search_type  page  relative_citation_ratio  human  \\\n",
       "0  19297575  Moyamoya   relevance     1                    29.60    1.0   \n",
       "1  29911252  Moyamoya   relevance     1                     9.28    1.0   \n",
       "2  27960175  Moyamoya   relevance     1                     2.81    1.0   \n",
       "3  27549666  Moyamoya   relevance     1                     2.39    1.0   \n",
       "4  28381201  Moyamoya   relevance     1                     2.76    0.5   \n",
       "\n",
       "   animal  molecular_cellular   apt is_clinical  ...  LastAuthFirstName  \\\n",
       "0     0.0                 0.0  0.95          No  ...             Edward   \n",
       "1     0.0                 0.0  0.95          No  ...                Ran   \n",
       "2     0.0                 0.0  0.95          No  ...               Jong   \n",
       "3     0.0                 0.0  0.75          No  ...               Isao   \n",
       "4     0.5                 0.0  0.75          No  ...             Mingli   \n",
       "\n",
       "  LastAuthLastName FirstAuthLastName FirstAuthFirstName  \\\n",
       "0            Smith             Scott            Michael   \n",
       "1             Meng             Shang            Shuling   \n",
       "2              Kim          Fujimura               Miki   \n",
       "3             Date         Hishikawa           Tomohito   \n",
       "4              Rao             Huang               Shuo   \n",
       "\n",
       "  firstauthor_percent_white firstauthor_percent_black  \\\n",
       "0                     62.60                     32.26   \n",
       "1                      7.63                      1.66   \n",
       "2                      6.05                       (S)   \n",
       "3                       NaN                       NaN   \n",
       "4                      1.03                      0.09   \n",
       "\n",
       "  firstauthor_percent_asian  \\\n",
       "0                      0.41   \n",
       "1                     88.49   \n",
       "2                     84.08   \n",
       "3                       NaN   \n",
       "4                     96.83   \n",
       "\n",
       "  firstauthor_percent_american_indian_alaskan_native  \\\n",
       "0                                               1.15   \n",
       "1                                               0.00   \n",
       "2                                               0.00   \n",
       "3                                                NaN   \n",
       "4                                               0.02   \n",
       "\n",
       "   firstauthor_percent_multi_race firstauthor_percent_hispanic  \n",
       "0                            1.90                         1.68  \n",
       "1                            1.39                         0.83  \n",
       "2                            8.92                          (S)  \n",
       "3                             NaN                          NaN  \n",
       "4                            1.74                         0.29  \n",
       "\n",
       "[5 rows x 35 columns]"
      ]
     },
     "execution_count": 188,
     "metadata": {},
     "output_type": "execute_result"
    }
   ],
   "source": [
    "dre.head()"
   ]
  },
  {
   "cell_type": "code",
   "execution_count": 189,
   "id": "6b1841e9",
   "metadata": {},
   "outputs": [],
   "source": [
    "RaceEthGroupLast = {'pctwhite':'lastauthor_percent_white', 'pctblack':'lastauthor_percent_black', 'pctapi':'lastauthor_percent_asian', 'pctaian':'lastauthor_percent_american_indian_alaskan_native', 'pct2prace':'lastauthor_percent_multi_race', 'pcthispanic':'lastauthor_percent_hispanic'}"
   ]
  },
  {
   "cell_type": "code",
   "execution_count": 190,
   "id": "43cf5285",
   "metadata": {},
   "outputs": [],
   "source": [
    "dfre = census_ln(data, 'LastAuthLastName')"
   ]
  },
  {
   "cell_type": "code",
   "execution_count": 191,
   "id": "7e94afc6",
   "metadata": {},
   "outputs": [],
   "source": [
    "dfre = dfre.rename(columns = RaceEthGroupLast)"
   ]
  },
  {
   "cell_type": "code",
   "execution_count": 192,
   "id": "6d806c29",
   "metadata": {},
   "outputs": [
    {
     "data": {
      "text/plain": [
       "Index(['pmid', 'query', 'search_type', 'page', 'relative_citation_ratio',\n",
       "       'human', 'animal', 'molecular_cellular', 'apt', 'is_clinical',\n",
       "       'citation_count', 'cited_by', 'references', 'title', 'abstract',\n",
       "       'journal', 'authors', 'affiliations', 'pubdate', 'mesh_terms',\n",
       "       'publication_types', 'chemical_list', 'keywords', 'languages',\n",
       "       'country', 'LastAuthFirstName', 'LastAuthLastName', 'FirstAuthLastName',\n",
       "       'FirstAuthFirstName', 'lastauthor_percent_white',\n",
       "       'lastauthor_percent_black', 'lastauthor_percent_asian',\n",
       "       'lastauthor_percent_american_indian_alaskan_native',\n",
       "       'lastauthor_percent_multi_race', 'lastauthor_percent_hispanic'],\n",
       "      dtype='object')"
      ]
     },
     "execution_count": 192,
     "metadata": {},
     "output_type": "execute_result"
    }
   ],
   "source": [
    "dfre.columns"
   ]
  },
  {
   "cell_type": "code",
   "execution_count": 193,
   "id": "5f43333e",
   "metadata": {},
   "outputs": [],
   "source": [
    "dfre = dfre[['lastauthor_percent_white',\n",
    "       'lastauthor_percent_black', 'lastauthor_percent_asian',\n",
    "       'lastauthor_percent_american_indian_alaskan_native',\n",
    "       'lastauthor_percent_multi_race', 'lastauthor_percent_hispanic']]"
   ]
  },
  {
   "cell_type": "code",
   "execution_count": 194,
   "id": "eb7c8e75",
   "metadata": {},
   "outputs": [],
   "source": [
    "dre = dre.join(dfre)"
   ]
  },
  {
   "cell_type": "code",
   "execution_count": 195,
   "id": "5bf1f3fe",
   "metadata": {},
   "outputs": [
    {
     "data": {
      "text/plain": [
       "Index(['pmid', 'query', 'search_type', 'page', 'relative_citation_ratio',\n",
       "       'human', 'animal', 'molecular_cellular', 'apt', 'is_clinical',\n",
       "       'citation_count', 'cited_by', 'references', 'title', 'abstract',\n",
       "       'journal', 'authors', 'affiliations', 'pubdate', 'mesh_terms',\n",
       "       'publication_types', 'chemical_list', 'keywords', 'languages',\n",
       "       'country', 'LastAuthFirstName', 'LastAuthLastName', 'FirstAuthLastName',\n",
       "       'FirstAuthFirstName', 'firstauthor_percent_white',\n",
       "       'firstauthor_percent_black', 'firstauthor_percent_asian',\n",
       "       'firstauthor_percent_american_indian_alaskan_native',\n",
       "       'firstauthor_percent_multi_race', 'firstauthor_percent_hispanic',\n",
       "       'lastauthor_percent_white', 'lastauthor_percent_black',\n",
       "       'lastauthor_percent_asian',\n",
       "       'lastauthor_percent_american_indian_alaskan_native',\n",
       "       'lastauthor_percent_multi_race', 'lastauthor_percent_hispanic'],\n",
       "      dtype='object')"
      ]
     },
     "execution_count": 195,
     "metadata": {},
     "output_type": "execute_result"
    }
   ],
   "source": [
    "dre.columns"
   ]
  },
  {
   "cell_type": "code",
   "execution_count": 196,
   "id": "9a35e128",
   "metadata": {},
   "outputs": [
    {
     "data": {
      "text/html": [
       "<div>\n",
       "<style scoped>\n",
       "    .dataframe tbody tr th:only-of-type {\n",
       "        vertical-align: middle;\n",
       "    }\n",
       "\n",
       "    .dataframe tbody tr th {\n",
       "        vertical-align: top;\n",
       "    }\n",
       "\n",
       "    .dataframe thead th {\n",
       "        text-align: right;\n",
       "    }\n",
       "</style>\n",
       "<table border=\"1\" class=\"dataframe\">\n",
       "  <thead>\n",
       "    <tr style=\"text-align: right;\">\n",
       "      <th></th>\n",
       "      <th>pmid</th>\n",
       "      <th>query</th>\n",
       "      <th>search_type</th>\n",
       "      <th>page</th>\n",
       "      <th>relative_citation_ratio</th>\n",
       "      <th>human</th>\n",
       "      <th>animal</th>\n",
       "      <th>molecular_cellular</th>\n",
       "      <th>apt</th>\n",
       "      <th>is_clinical</th>\n",
       "      <th>...</th>\n",
       "      <th>firstauthor_percent_asian</th>\n",
       "      <th>firstauthor_percent_american_indian_alaskan_native</th>\n",
       "      <th>firstauthor_percent_multi_race</th>\n",
       "      <th>firstauthor_percent_hispanic</th>\n",
       "      <th>lastauthor_percent_white</th>\n",
       "      <th>lastauthor_percent_black</th>\n",
       "      <th>lastauthor_percent_asian</th>\n",
       "      <th>lastauthor_percent_american_indian_alaskan_native</th>\n",
       "      <th>lastauthor_percent_multi_race</th>\n",
       "      <th>lastauthor_percent_hispanic</th>\n",
       "    </tr>\n",
       "  </thead>\n",
       "  <tbody>\n",
       "    <tr>\n",
       "      <th>7201</th>\n",
       "      <td>33988094</td>\n",
       "      <td>literacy skills</td>\n",
       "      <td>pubdate_desc</td>\n",
       "      <td>2</td>\n",
       "      <td>NaN</td>\n",
       "      <td>1.0</td>\n",
       "      <td>0.0</td>\n",
       "      <td>0.0</td>\n",
       "      <td>0.25</td>\n",
       "      <td>No</td>\n",
       "      <td>...</td>\n",
       "      <td>NaN</td>\n",
       "      <td>NaN</td>\n",
       "      <td>NaN</td>\n",
       "      <td>NaN</td>\n",
       "      <td>78.80</td>\n",
       "      <td>(S)</td>\n",
       "      <td>3.18</td>\n",
       "      <td>(S)</td>\n",
       "      <td>13.78</td>\n",
       "      <td>3.53</td>\n",
       "    </tr>\n",
       "    <tr>\n",
       "      <th>7202</th>\n",
       "      <td>35608744</td>\n",
       "      <td>literacy skills</td>\n",
       "      <td>pubdate_desc</td>\n",
       "      <td>2</td>\n",
       "      <td>NaN</td>\n",
       "      <td>0.0</td>\n",
       "      <td>0.0</td>\n",
       "      <td>0.0</td>\n",
       "      <td>0.00</td>\n",
       "      <td>No</td>\n",
       "      <td>...</td>\n",
       "      <td>NaN</td>\n",
       "      <td>NaN</td>\n",
       "      <td>NaN</td>\n",
       "      <td>NaN</td>\n",
       "      <td>63.89</td>\n",
       "      <td>27.57</td>\n",
       "      <td>1.30</td>\n",
       "      <td>2.08</td>\n",
       "      <td>2.44</td>\n",
       "      <td>2.72</td>\n",
       "    </tr>\n",
       "    <tr>\n",
       "      <th>7203</th>\n",
       "      <td>35603494</td>\n",
       "      <td>literacy skills</td>\n",
       "      <td>pubdate_desc</td>\n",
       "      <td>2</td>\n",
       "      <td>NaN</td>\n",
       "      <td>1.0</td>\n",
       "      <td>0.0</td>\n",
       "      <td>0.0</td>\n",
       "      <td>0.00</td>\n",
       "      <td>No</td>\n",
       "      <td>...</td>\n",
       "      <td>0.88</td>\n",
       "      <td>0.14</td>\n",
       "      <td>0.99</td>\n",
       "      <td>1.38</td>\n",
       "      <td>78.90</td>\n",
       "      <td>17.68</td>\n",
       "      <td>0.48</td>\n",
       "      <td>0.29</td>\n",
       "      <td>1.39</td>\n",
       "      <td>1.26</td>\n",
       "    </tr>\n",
       "    <tr>\n",
       "      <th>7204</th>\n",
       "      <td>35597972</td>\n",
       "      <td>literacy skills</td>\n",
       "      <td>pubdate_desc</td>\n",
       "      <td>2</td>\n",
       "      <td>NaN</td>\n",
       "      <td>1.0</td>\n",
       "      <td>0.0</td>\n",
       "      <td>0.0</td>\n",
       "      <td>0.00</td>\n",
       "      <td>No</td>\n",
       "      <td>...</td>\n",
       "      <td>(S)</td>\n",
       "      <td>(S)</td>\n",
       "      <td>(S)</td>\n",
       "      <td>(S)</td>\n",
       "      <td>NaN</td>\n",
       "      <td>NaN</td>\n",
       "      <td>NaN</td>\n",
       "      <td>NaN</td>\n",
       "      <td>NaN</td>\n",
       "      <td>NaN</td>\n",
       "    </tr>\n",
       "    <tr>\n",
       "      <th>7205</th>\n",
       "      <td>35596530</td>\n",
       "      <td>literacy skills</td>\n",
       "      <td>pubdate_desc</td>\n",
       "      <td>2</td>\n",
       "      <td>NaN</td>\n",
       "      <td>1.0</td>\n",
       "      <td>0.0</td>\n",
       "      <td>0.0</td>\n",
       "      <td>0.00</td>\n",
       "      <td>No</td>\n",
       "      <td>...</td>\n",
       "      <td>89.22</td>\n",
       "      <td>0.00</td>\n",
       "      <td>(S)</td>\n",
       "      <td>(S)</td>\n",
       "      <td>93.55</td>\n",
       "      <td>0.00</td>\n",
       "      <td>(S)</td>\n",
       "      <td>2.76</td>\n",
       "      <td>2.76</td>\n",
       "      <td>(S)</td>\n",
       "    </tr>\n",
       "  </tbody>\n",
       "</table>\n",
       "<p>5 rows × 41 columns</p>\n",
       "</div>"
      ],
      "text/plain": [
       "          pmid            query   search_type  page  relative_citation_ratio  \\\n",
       "7201  33988094  literacy skills  pubdate_desc     2                      NaN   \n",
       "7202  35608744  literacy skills  pubdate_desc     2                      NaN   \n",
       "7203  35603494  literacy skills  pubdate_desc     2                      NaN   \n",
       "7204  35597972  literacy skills  pubdate_desc     2                      NaN   \n",
       "7205  35596530  literacy skills  pubdate_desc     2                      NaN   \n",
       "\n",
       "      human  animal  molecular_cellular   apt is_clinical  ...  \\\n",
       "7201    1.0     0.0                 0.0  0.25          No  ...   \n",
       "7202    0.0     0.0                 0.0  0.00          No  ...   \n",
       "7203    1.0     0.0                 0.0  0.00          No  ...   \n",
       "7204    1.0     0.0                 0.0  0.00          No  ...   \n",
       "7205    1.0     0.0                 0.0  0.00          No  ...   \n",
       "\n",
       "      firstauthor_percent_asian  \\\n",
       "7201                        NaN   \n",
       "7202                        NaN   \n",
       "7203                       0.88   \n",
       "7204                        (S)   \n",
       "7205                      89.22   \n",
       "\n",
       "     firstauthor_percent_american_indian_alaskan_native  \\\n",
       "7201                                                NaN   \n",
       "7202                                                NaN   \n",
       "7203                                               0.14   \n",
       "7204                                                (S)   \n",
       "7205                                               0.00   \n",
       "\n",
       "     firstauthor_percent_multi_race firstauthor_percent_hispanic  \\\n",
       "7201                            NaN                          NaN   \n",
       "7202                            NaN                          NaN   \n",
       "7203                           0.99                         1.38   \n",
       "7204                            (S)                          (S)   \n",
       "7205                            (S)                          (S)   \n",
       "\n",
       "     lastauthor_percent_white lastauthor_percent_black  \\\n",
       "7201                    78.80                      (S)   \n",
       "7202                    63.89                    27.57   \n",
       "7203                    78.90                    17.68   \n",
       "7204                      NaN                      NaN   \n",
       "7205                    93.55                     0.00   \n",
       "\n",
       "     lastauthor_percent_asian  \\\n",
       "7201                     3.18   \n",
       "7202                     1.30   \n",
       "7203                     0.48   \n",
       "7204                      NaN   \n",
       "7205                      (S)   \n",
       "\n",
       "     lastauthor_percent_american_indian_alaskan_native  \\\n",
       "7201                                               (S)   \n",
       "7202                                              2.08   \n",
       "7203                                              0.29   \n",
       "7204                                               NaN   \n",
       "7205                                              2.76   \n",
       "\n",
       "      lastauthor_percent_multi_race lastauthor_percent_hispanic  \n",
       "7201                          13.78                        3.53  \n",
       "7202                           2.44                        2.72  \n",
       "7203                           1.39                        1.26  \n",
       "7204                            NaN                         NaN  \n",
       "7205                           2.76                         (S)  \n",
       "\n",
       "[5 rows x 41 columns]"
      ]
     },
     "execution_count": 196,
     "metadata": {},
     "output_type": "execute_result"
    }
   ],
   "source": [
    "dre.tail()"
   ]
  },
  {
   "cell_type": "code",
   "execution_count": 198,
   "id": "3441154c",
   "metadata": {},
   "outputs": [
    {
     "data": {
      "text/plain": [
       "Index(['pmid', 'query', 'search_type', 'page', 'relative_citation_ratio',\n",
       "       'human', 'animal', 'molecular_cellular', 'apt', 'is_clinical',\n",
       "       'citation_count', 'cited_by', 'references', 'title', 'abstract',\n",
       "       'journal', 'authors', 'affiliations', 'pubdate', 'mesh_terms',\n",
       "       'publication_types', 'chemical_list', 'keywords', 'languages',\n",
       "       'country', 'LastAuthFirstName', 'LastAuthLastName', 'FirstAuthLastName',\n",
       "       'FirstAuthFirstName', 'firstauthor_percent_white',\n",
       "       'firstauthor_percent_black', 'firstauthor_percent_asian',\n",
       "       'firstauthor_percent_american_indian_alaskan_native',\n",
       "       'firstauthor_percent_multi_race', 'firstauthor_percent_hispanic',\n",
       "       'lastauthor_percent_white', 'lastauthor_percent_black',\n",
       "       'lastauthor_percent_asian',\n",
       "       'lastauthor_percent_american_indian_alaskan_native',\n",
       "       'lastauthor_percent_multi_race', 'lastauthor_percent_hispanic'],\n",
       "      dtype='object')"
      ]
     },
     "execution_count": 198,
     "metadata": {},
     "output_type": "execute_result"
    }
   ],
   "source": [
    "dre.columns"
   ]
  },
  {
   "cell_type": "code",
   "execution_count": 197,
   "id": "a96b207b",
   "metadata": {
    "scrolled": true
   },
   "outputs": [
    {
     "data": {
      "text/plain": [
       "Index(['pmid', 'query', 'search_type', 'page', 'relative_citation_ratio',\n",
       "       'human', 'animal', 'molecular_cellular', 'apt', 'is_clinical',\n",
       "       'citation_count', 'cited_by', 'references', 'title', 'abstract',\n",
       "       'journal', 'authors', 'affiliations', 'pubdate', 'mesh_terms',\n",
       "       'publication_types', 'chemical_list', 'keywords', 'languages',\n",
       "       'country', 'LastAuthFirstName', 'LastAuthLastName', 'FirstAuthLastName',\n",
       "       'FirstAuthFirstName', 'namelastauthor', 'gender_last_author',\n",
       "       'probabilitylastauthor', 'countlastauthor', 'p_last_author_female',\n",
       "       'p_last_author_male', 'namefirstauthor', 'gender_first_author',\n",
       "       'probabilityfirstauthor', 'countfirstauthor', 'p_first_author_female',\n",
       "       'p_first_author_male'],\n",
       "      dtype='object')"
      ]
     },
     "execution_count": 197,
     "metadata": {},
     "output_type": "execute_result"
    }
   ],
   "source": [
    "data1.columns"
   ]
  },
  {
   "cell_type": "code",
   "execution_count": 201,
   "id": "3cc9645d",
   "metadata": {},
   "outputs": [],
   "source": [
    "dre1 = dre[['firstauthor_percent_white',\n",
    "       'firstauthor_percent_black', 'firstauthor_percent_asian',\n",
    "       'firstauthor_percent_american_indian_alaskan_native',\n",
    "       'firstauthor_percent_multi_race', 'firstauthor_percent_hispanic',\n",
    "       'lastauthor_percent_white', 'lastauthor_percent_black',\n",
    "       'lastauthor_percent_asian',\n",
    "       'lastauthor_percent_american_indian_alaskan_native',\n",
    "       'lastauthor_percent_multi_race', 'lastauthor_percent_hispanic']]"
   ]
  },
  {
   "cell_type": "code",
   "execution_count": 203,
   "id": "761bf898",
   "metadata": {},
   "outputs": [],
   "source": [
    "data1 = data1.join(dre1)"
   ]
  },
  {
   "cell_type": "code",
   "execution_count": 206,
   "id": "6071a75c",
   "metadata": {},
   "outputs": [
    {
     "data": {
      "text/plain": [
       "Index(['pmid', 'query', 'search_type', 'page', 'relative_citation_ratio',\n",
       "       'human', 'animal', 'molecular_cellular', 'apt', 'is_clinical',\n",
       "       'citation_count', 'cited_by', 'references', 'title', 'abstract',\n",
       "       'journal', 'authors', 'affiliations', 'pubdate', 'mesh_terms',\n",
       "       'publication_types', 'chemical_list', 'keywords', 'languages',\n",
       "       'country', 'LastAuthFirstName', 'LastAuthLastName', 'FirstAuthLastName',\n",
       "       'FirstAuthFirstName', 'namelastauthor', 'gender_last_author',\n",
       "       'probabilitylastauthor', 'countlastauthor', 'p_last_author_female',\n",
       "       'p_last_author_male', 'namefirstauthor', 'gender_first_author',\n",
       "       'probabilityfirstauthor', 'countfirstauthor', 'p_first_author_female',\n",
       "       'p_first_author_male', 'firstauthor_percent_white',\n",
       "       'firstauthor_percent_black', 'firstauthor_percent_asian',\n",
       "       'firstauthor_percent_american_indian_alaskan_native',\n",
       "       'firstauthor_percent_multi_race', 'firstauthor_percent_hispanic',\n",
       "       'lastauthor_percent_white', 'lastauthor_percent_black',\n",
       "       'lastauthor_percent_asian',\n",
       "       'lastauthor_percent_american_indian_alaskan_native',\n",
       "       'lastauthor_percent_multi_race', 'lastauthor_percent_hispanic'],\n",
       "      dtype='object')"
      ]
     },
     "execution_count": 206,
     "metadata": {},
     "output_type": "execute_result"
    }
   ],
   "source": [
    "data1.columns"
   ]
  },
  {
   "cell_type": "code",
   "execution_count": 207,
   "id": "a09abab1",
   "metadata": {},
   "outputs": [],
   "source": [
    "data2 = data1[['pmid', 'query', 'search_type', 'page','LastAuthFirstName', 'LastAuthLastName', 'FirstAuthLastName',\n",
    "       'FirstAuthFirstName', 'gender_last_author', 'p_last_author_female',\n",
    "       'p_last_author_male', 'gender_first_author','p_first_author_female',\n",
    "       'p_first_author_male', 'firstauthor_percent_white',\n",
    "       'firstauthor_percent_black', 'firstauthor_percent_asian',\n",
    "       'firstauthor_percent_american_indian_alaskan_native',\n",
    "       'firstauthor_percent_multi_race', 'firstauthor_percent_hispanic',\n",
    "       'lastauthor_percent_white', 'lastauthor_percent_black',\n",
    "       'lastauthor_percent_asian',\n",
    "       'lastauthor_percent_american_indian_alaskan_native',\n",
    "       'lastauthor_percent_multi_race', 'lastauthor_percent_hispanic']]"
   ]
  },
  {
   "cell_type": "code",
   "execution_count": 215,
   "id": "8c9b525b",
   "metadata": {},
   "outputs": [],
   "source": [
    "data1.to_csv('RaceEthGenderFirstandLastAuthor.csv')"
   ]
  },
  {
   "cell_type": "code",
   "execution_count": 208,
   "id": "9fead08a",
   "metadata": {},
   "outputs": [],
   "source": [
    "data2.to_csv('RaceEthGender.csv')"
   ]
  }
 ],
 "metadata": {
  "kernelspec": {
   "display_name": "Python 3 (ipykernel)",
   "language": "python",
   "name": "python3"
  },
  "language_info": {
   "codemirror_mode": {
    "name": "ipython",
    "version": 3
   },
   "file_extension": ".py",
   "mimetype": "text/x-python",
   "name": "python",
   "nbconvert_exporter": "python",
   "pygments_lexer": "ipython3",
   "version": "3.9.7"
  }
 },
 "nbformat": 4,
 "nbformat_minor": 5
}
