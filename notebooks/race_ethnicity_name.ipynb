{
 "cells": [
  {
   "cell_type": "code",
   "execution_count": 1,
   "id": "826c3649",
   "metadata": {},
   "outputs": [
    {
     "name": "stderr",
     "output_type": "stream",
     "text": [
      "2022-05-24 20:41:10.013534: W tensorflow/stream_executor/platform/default/dso_loader.cc:64] Could not load dynamic library 'libcudart.so.11.0'; dlerror: libcudart.so.11.0: cannot open shared object file: No such file or directory\n",
      "2022-05-24 20:41:10.013569: I tensorflow/stream_executor/cuda/cudart_stub.cc:29] Ignore above cudart dlerror if you do not have a GPU set up on your machine.\n"
     ]
    }
   ],
   "source": [
    "import ethnicolr\n",
    "from ethnicolr import census_ln, pred_census_ln\n",
    "import pandas as pd\n",
    "from genderize import Genderize"
   ]
  },
  {
   "cell_type": "markdown",
   "id": "06cd2d18",
   "metadata": {},
   "source": [
    "Race/Ethnicity groups follow census groups, trained from US 2010 Census data\n",
    "\n",
    "Genderize is using social media data\n",
    "\n",
    "Need to install using jupyterhub account - ethnicolr needs python 3.6"
   ]
  },
  {
   "cell_type": "code",
   "execution_count": 2,
   "id": "9f5f92c5",
   "metadata": {},
   "outputs": [],
   "source": [
    "RaceEthGroup = {'pctwhite':'white', 'pctblack':'black', 'pctapi':'asian', 'pctaian':'american_indian_alaskan_native', 'pct2prace':'multi_race', 'pcthispanic':'hispanic'}"
   ]
  },
  {
   "cell_type": "code",
   "execution_count": 3,
   "id": "eaa99473",
   "metadata": {},
   "outputs": [],
   "source": [
    "\n",
    "\n",
    "names = [{'fname':'amber', 'lname': 'smith', 'title':'paper a'},\n",
    "        {'fname':'yang','lname': 'zhang', 'title':'paper b'},  \n",
    "         {'fname':'aliayah','lname': 'jackson', 'title':'paper c'}]\n",
    "\n",
    "df = pd.DataFrame(names)\n",
    "\n"
   ]
  },
  {
   "cell_type": "code",
   "execution_count": 4,
   "id": "a020d020",
   "metadata": {},
   "outputs": [
    {
     "data": {
      "text/html": [
       "<div>\n",
       "<style scoped>\n",
       "    .dataframe tbody tr th:only-of-type {\n",
       "        vertical-align: middle;\n",
       "    }\n",
       "\n",
       "    .dataframe tbody tr th {\n",
       "        vertical-align: top;\n",
       "    }\n",
       "\n",
       "    .dataframe thead th {\n",
       "        text-align: right;\n",
       "    }\n",
       "</style>\n",
       "<table border=\"1\" class=\"dataframe\">\n",
       "  <thead>\n",
       "    <tr style=\"text-align: right;\">\n",
       "      <th></th>\n",
       "      <th>fname</th>\n",
       "      <th>lname</th>\n",
       "      <th>title</th>\n",
       "    </tr>\n",
       "  </thead>\n",
       "  <tbody>\n",
       "    <tr>\n",
       "      <th>0</th>\n",
       "      <td>amber</td>\n",
       "      <td>smith</td>\n",
       "      <td>paper a</td>\n",
       "    </tr>\n",
       "    <tr>\n",
       "      <th>1</th>\n",
       "      <td>yang</td>\n",
       "      <td>zhang</td>\n",
       "      <td>paper b</td>\n",
       "    </tr>\n",
       "    <tr>\n",
       "      <th>2</th>\n",
       "      <td>aliayah</td>\n",
       "      <td>jackson</td>\n",
       "      <td>paper c</td>\n",
       "    </tr>\n",
       "  </tbody>\n",
       "</table>\n",
       "</div>"
      ],
      "text/plain": [
       "     fname    lname    title\n",
       "0    amber    smith  paper a\n",
       "1     yang    zhang  paper b\n",
       "2  aliayah  jackson  paper c"
      ]
     },
     "execution_count": 4,
     "metadata": {},
     "output_type": "execute_result"
    }
   ],
   "source": [
    "df"
   ]
  },
  {
   "cell_type": "code",
   "execution_count": 5,
   "id": "2b33a88e",
   "metadata": {},
   "outputs": [],
   "source": [
    " df = census_ln(df, 'lname')"
   ]
  },
  {
   "cell_type": "code",
   "execution_count": 6,
   "id": "1ea85186",
   "metadata": {},
   "outputs": [
    {
     "data": {
      "text/html": [
       "<div>\n",
       "<style scoped>\n",
       "    .dataframe tbody tr th:only-of-type {\n",
       "        vertical-align: middle;\n",
       "    }\n",
       "\n",
       "    .dataframe tbody tr th {\n",
       "        vertical-align: top;\n",
       "    }\n",
       "\n",
       "    .dataframe thead th {\n",
       "        text-align: right;\n",
       "    }\n",
       "</style>\n",
       "<table border=\"1\" class=\"dataframe\">\n",
       "  <thead>\n",
       "    <tr style=\"text-align: right;\">\n",
       "      <th></th>\n",
       "      <th>fname</th>\n",
       "      <th>lname</th>\n",
       "      <th>title</th>\n",
       "      <th>pctwhite</th>\n",
       "      <th>pctblack</th>\n",
       "      <th>pctapi</th>\n",
       "      <th>pctaian</th>\n",
       "      <th>pct2prace</th>\n",
       "      <th>pcthispanic</th>\n",
       "    </tr>\n",
       "  </thead>\n",
       "  <tbody>\n",
       "    <tr>\n",
       "      <th>0</th>\n",
       "      <td>amber</td>\n",
       "      <td>smith</td>\n",
       "      <td>paper a</td>\n",
       "      <td>73.35</td>\n",
       "      <td>22.22</td>\n",
       "      <td>0.40</td>\n",
       "      <td>0.85</td>\n",
       "      <td>1.63</td>\n",
       "      <td>1.56</td>\n",
       "    </tr>\n",
       "    <tr>\n",
       "      <th>1</th>\n",
       "      <td>yang</td>\n",
       "      <td>zhang</td>\n",
       "      <td>paper b</td>\n",
       "      <td>0.61</td>\n",
       "      <td>0.09</td>\n",
       "      <td>98.16</td>\n",
       "      <td>0.02</td>\n",
       "      <td>0.96</td>\n",
       "      <td>0.16</td>\n",
       "    </tr>\n",
       "    <tr>\n",
       "      <th>2</th>\n",
       "      <td>aliayah</td>\n",
       "      <td>jackson</td>\n",
       "      <td>paper c</td>\n",
       "      <td>41.93</td>\n",
       "      <td>53.02</td>\n",
       "      <td>0.31</td>\n",
       "      <td>1.04</td>\n",
       "      <td>2.18</td>\n",
       "      <td>1.53</td>\n",
       "    </tr>\n",
       "  </tbody>\n",
       "</table>\n",
       "</div>"
      ],
      "text/plain": [
       "     fname    lname    title pctwhite pctblack pctapi pctaian pct2prace  \\\n",
       "0    amber    smith  paper a    73.35    22.22   0.40    0.85      1.63   \n",
       "1     yang    zhang  paper b     0.61     0.09  98.16    0.02      0.96   \n",
       "2  aliayah  jackson  paper c    41.93    53.02   0.31    1.04      2.18   \n",
       "\n",
       "  pcthispanic  \n",
       "0        1.56  \n",
       "1        0.16  \n",
       "2        1.53  "
      ]
     },
     "execution_count": 6,
     "metadata": {},
     "output_type": "execute_result"
    }
   ],
   "source": [
    "df.head()"
   ]
  },
  {
   "cell_type": "code",
   "execution_count": 7,
   "id": "458055f7",
   "metadata": {},
   "outputs": [],
   "source": [
    "df = df.rename(columns = RaceEthGroup)\n"
   ]
  },
  {
   "cell_type": "code",
   "execution_count": 8,
   "id": "5ce8cd3f",
   "metadata": {
    "scrolled": true
   },
   "outputs": [
    {
     "data": {
      "text/html": [
       "<div>\n",
       "<style scoped>\n",
       "    .dataframe tbody tr th:only-of-type {\n",
       "        vertical-align: middle;\n",
       "    }\n",
       "\n",
       "    .dataframe tbody tr th {\n",
       "        vertical-align: top;\n",
       "    }\n",
       "\n",
       "    .dataframe thead th {\n",
       "        text-align: right;\n",
       "    }\n",
       "</style>\n",
       "<table border=\"1\" class=\"dataframe\">\n",
       "  <thead>\n",
       "    <tr style=\"text-align: right;\">\n",
       "      <th></th>\n",
       "      <th>fname</th>\n",
       "      <th>lname</th>\n",
       "      <th>title</th>\n",
       "      <th>white</th>\n",
       "      <th>black</th>\n",
       "      <th>asian</th>\n",
       "      <th>american_indian_alaskan_native</th>\n",
       "      <th>multi_race</th>\n",
       "      <th>hispanic</th>\n",
       "    </tr>\n",
       "  </thead>\n",
       "  <tbody>\n",
       "    <tr>\n",
       "      <th>0</th>\n",
       "      <td>amber</td>\n",
       "      <td>smith</td>\n",
       "      <td>paper a</td>\n",
       "      <td>73.35</td>\n",
       "      <td>22.22</td>\n",
       "      <td>0.40</td>\n",
       "      <td>0.85</td>\n",
       "      <td>1.63</td>\n",
       "      <td>1.56</td>\n",
       "    </tr>\n",
       "    <tr>\n",
       "      <th>1</th>\n",
       "      <td>yang</td>\n",
       "      <td>zhang</td>\n",
       "      <td>paper b</td>\n",
       "      <td>0.61</td>\n",
       "      <td>0.09</td>\n",
       "      <td>98.16</td>\n",
       "      <td>0.02</td>\n",
       "      <td>0.96</td>\n",
       "      <td>0.16</td>\n",
       "    </tr>\n",
       "    <tr>\n",
       "      <th>2</th>\n",
       "      <td>aliayah</td>\n",
       "      <td>jackson</td>\n",
       "      <td>paper c</td>\n",
       "      <td>41.93</td>\n",
       "      <td>53.02</td>\n",
       "      <td>0.31</td>\n",
       "      <td>1.04</td>\n",
       "      <td>2.18</td>\n",
       "      <td>1.53</td>\n",
       "    </tr>\n",
       "  </tbody>\n",
       "</table>\n",
       "</div>"
      ],
      "text/plain": [
       "     fname    lname    title  white  black  asian  \\\n",
       "0    amber    smith  paper a  73.35  22.22   0.40   \n",
       "1     yang    zhang  paper b   0.61   0.09  98.16   \n",
       "2  aliayah  jackson  paper c  41.93  53.02   0.31   \n",
       "\n",
       "  american_indian_alaskan_native multi_race hispanic  \n",
       "0                           0.85       1.63     1.56  \n",
       "1                           0.02       0.96     0.16  \n",
       "2                           1.04       2.18     1.53  "
      ]
     },
     "execution_count": 8,
     "metadata": {},
     "output_type": "execute_result"
    }
   ],
   "source": [
    "df.head()"
   ]
  },
  {
   "cell_type": "markdown",
   "id": "2c269447",
   "metadata": {},
   "source": [
    "## Genderize - calculate gender"
   ]
  },
  {
   "cell_type": "markdown",
   "id": "bbab355b",
   "metadata": {},
   "source": [
    "disclaimer: only outputs Male or Female"
   ]
  },
  {
   "cell_type": "markdown",
   "id": "a613c75d",
   "metadata": {},
   "source": []
  },
  {
   "cell_type": "code",
   "execution_count": 9,
   "id": "94e36a3b",
   "metadata": {},
   "outputs": [
    {
     "data": {
      "text/plain": [
       "[{'name': 'Alex', 'gender': 'male', 'probability': 0.9, 'count': 411319},\n",
       " {'name': 'Jessie', 'gender': 'female', 'probability': 0.79, 'count': 7551},\n",
       " {'name': 'Taylor', 'gender': 'male', 'probability': 0.72, 'count': 3370}]"
      ]
     },
     "execution_count": 9,
     "metadata": {},
     "output_type": "execute_result"
    }
   ],
   "source": [
    "#testing on gender neutral names to see results\n",
    "Genderize().get(['Alex','Jessie','Taylor'])\n"
   ]
  },
  {
   "cell_type": "code",
   "execution_count": 10,
   "id": "8e0e396d",
   "metadata": {},
   "outputs": [],
   "source": [
    "## to get values - create dataframe of the results genderize produces of columns"
   ]
  },
  {
   "cell_type": "code",
   "execution_count": 11,
   "id": "8fb71450",
   "metadata": {},
   "outputs": [],
   "source": [
    "gender_prob = pd.DataFrame(Genderize().get(df.fname))"
   ]
  },
  {
   "cell_type": "code",
   "execution_count": 12,
   "id": "669b8e16",
   "metadata": {},
   "outputs": [
    {
     "data": {
      "text/html": [
       "<div>\n",
       "<style scoped>\n",
       "    .dataframe tbody tr th:only-of-type {\n",
       "        vertical-align: middle;\n",
       "    }\n",
       "\n",
       "    .dataframe tbody tr th {\n",
       "        vertical-align: top;\n",
       "    }\n",
       "\n",
       "    .dataframe thead th {\n",
       "        text-align: right;\n",
       "    }\n",
       "</style>\n",
       "<table border=\"1\" class=\"dataframe\">\n",
       "  <thead>\n",
       "    <tr style=\"text-align: right;\">\n",
       "      <th></th>\n",
       "      <th>name</th>\n",
       "      <th>gender</th>\n",
       "      <th>probability</th>\n",
       "      <th>count</th>\n",
       "    </tr>\n",
       "  </thead>\n",
       "  <tbody>\n",
       "    <tr>\n",
       "      <th>0</th>\n",
       "      <td>amber</td>\n",
       "      <td>female</td>\n",
       "      <td>0.95</td>\n",
       "      <td>5248</td>\n",
       "    </tr>\n",
       "    <tr>\n",
       "      <th>1</th>\n",
       "      <td>yang</td>\n",
       "      <td>male</td>\n",
       "      <td>0.64</td>\n",
       "      <td>3869</td>\n",
       "    </tr>\n",
       "    <tr>\n",
       "      <th>2</th>\n",
       "      <td>aliayah</td>\n",
       "      <td>female</td>\n",
       "      <td>1.00</td>\n",
       "      <td>3</td>\n",
       "    </tr>\n",
       "  </tbody>\n",
       "</table>\n",
       "</div>"
      ],
      "text/plain": [
       "      name  gender  probability  count\n",
       "0    amber  female         0.95   5248\n",
       "1     yang    male         0.64   3869\n",
       "2  aliayah  female         1.00      3"
      ]
     },
     "execution_count": 12,
     "metadata": {},
     "output_type": "execute_result"
    }
   ],
   "source": [
    "gender_prob"
   ]
  },
  {
   "cell_type": "code",
   "execution_count": 13,
   "id": "eafd41f8",
   "metadata": {},
   "outputs": [],
   "source": [
    "## create columns with  male probability and female probability"
   ]
  },
  {
   "cell_type": "code",
   "execution_count": 14,
   "id": "4f208a27",
   "metadata": {},
   "outputs": [],
   "source": [
    "gender_prob.loc[gender_prob['gender']=='female', 'p_female'] = gender_prob['probability']\n",
    "gender_prob.loc[gender_prob['gender']=='female', 'p_male'] = 1 - gender_prob['probability']\n",
    "\n",
    "gender_prob.loc[gender_prob['gender']=='male', 'p_female'] = 1 - gender_prob['probability']\n",
    "gender_prob.loc[gender_prob['gender']=='male', 'p_male'] = gender_prob['probability']"
   ]
  },
  {
   "cell_type": "code",
   "execution_count": 15,
   "id": "b5d02227",
   "metadata": {},
   "outputs": [
    {
     "data": {
      "text/html": [
       "<div>\n",
       "<style scoped>\n",
       "    .dataframe tbody tr th:only-of-type {\n",
       "        vertical-align: middle;\n",
       "    }\n",
       "\n",
       "    .dataframe tbody tr th {\n",
       "        vertical-align: top;\n",
       "    }\n",
       "\n",
       "    .dataframe thead th {\n",
       "        text-align: right;\n",
       "    }\n",
       "</style>\n",
       "<table border=\"1\" class=\"dataframe\">\n",
       "  <thead>\n",
       "    <tr style=\"text-align: right;\">\n",
       "      <th></th>\n",
       "      <th>name</th>\n",
       "      <th>gender</th>\n",
       "      <th>probability</th>\n",
       "      <th>count</th>\n",
       "      <th>p_female</th>\n",
       "      <th>p_male</th>\n",
       "    </tr>\n",
       "  </thead>\n",
       "  <tbody>\n",
       "    <tr>\n",
       "      <th>0</th>\n",
       "      <td>amber</td>\n",
       "      <td>female</td>\n",
       "      <td>0.95</td>\n",
       "      <td>5248</td>\n",
       "      <td>0.95</td>\n",
       "      <td>0.05</td>\n",
       "    </tr>\n",
       "    <tr>\n",
       "      <th>1</th>\n",
       "      <td>yang</td>\n",
       "      <td>male</td>\n",
       "      <td>0.64</td>\n",
       "      <td>3869</td>\n",
       "      <td>0.36</td>\n",
       "      <td>0.64</td>\n",
       "    </tr>\n",
       "    <tr>\n",
       "      <th>2</th>\n",
       "      <td>aliayah</td>\n",
       "      <td>female</td>\n",
       "      <td>1.00</td>\n",
       "      <td>3</td>\n",
       "      <td>1.00</td>\n",
       "      <td>0.00</td>\n",
       "    </tr>\n",
       "  </tbody>\n",
       "</table>\n",
       "</div>"
      ],
      "text/plain": [
       "      name  gender  probability  count  p_female  p_male\n",
       "0    amber  female         0.95   5248      0.95    0.05\n",
       "1     yang    male         0.64   3869      0.36    0.64\n",
       "2  aliayah  female         1.00      3      1.00    0.00"
      ]
     },
     "execution_count": 15,
     "metadata": {},
     "output_type": "execute_result"
    }
   ],
   "source": [
    "gender_prob"
   ]
  },
  {
   "cell_type": "markdown",
   "id": "5c699e0d",
   "metadata": {},
   "source": [
    "merge dataframes together - keep only p_male, p_female"
   ]
  },
  {
   "cell_type": "code",
   "execution_count": 16,
   "id": "c833eb4f",
   "metadata": {},
   "outputs": [
    {
     "data": {
      "text/html": [
       "<div>\n",
       "<style scoped>\n",
       "    .dataframe tbody tr th:only-of-type {\n",
       "        vertical-align: middle;\n",
       "    }\n",
       "\n",
       "    .dataframe tbody tr th {\n",
       "        vertical-align: top;\n",
       "    }\n",
       "\n",
       "    .dataframe thead th {\n",
       "        text-align: right;\n",
       "    }\n",
       "</style>\n",
       "<table border=\"1\" class=\"dataframe\">\n",
       "  <thead>\n",
       "    <tr style=\"text-align: right;\">\n",
       "      <th></th>\n",
       "      <th>fname</th>\n",
       "      <th>lname</th>\n",
       "      <th>title</th>\n",
       "      <th>white</th>\n",
       "      <th>black</th>\n",
       "      <th>asian</th>\n",
       "      <th>american_indian_alaskan_native</th>\n",
       "      <th>multi_race</th>\n",
       "      <th>hispanic</th>\n",
       "      <th>name</th>\n",
       "      <th>gender</th>\n",
       "      <th>probability</th>\n",
       "      <th>count</th>\n",
       "      <th>p_female</th>\n",
       "      <th>p_male</th>\n",
       "    </tr>\n",
       "  </thead>\n",
       "  <tbody>\n",
       "    <tr>\n",
       "      <th>0</th>\n",
       "      <td>amber</td>\n",
       "      <td>smith</td>\n",
       "      <td>paper a</td>\n",
       "      <td>73.35</td>\n",
       "      <td>22.22</td>\n",
       "      <td>0.40</td>\n",
       "      <td>0.85</td>\n",
       "      <td>1.63</td>\n",
       "      <td>1.56</td>\n",
       "      <td>amber</td>\n",
       "      <td>female</td>\n",
       "      <td>0.95</td>\n",
       "      <td>5248</td>\n",
       "      <td>0.95</td>\n",
       "      <td>0.05</td>\n",
       "    </tr>\n",
       "    <tr>\n",
       "      <th>1</th>\n",
       "      <td>yang</td>\n",
       "      <td>zhang</td>\n",
       "      <td>paper b</td>\n",
       "      <td>0.61</td>\n",
       "      <td>0.09</td>\n",
       "      <td>98.16</td>\n",
       "      <td>0.02</td>\n",
       "      <td>0.96</td>\n",
       "      <td>0.16</td>\n",
       "      <td>yang</td>\n",
       "      <td>male</td>\n",
       "      <td>0.64</td>\n",
       "      <td>3869</td>\n",
       "      <td>0.36</td>\n",
       "      <td>0.64</td>\n",
       "    </tr>\n",
       "    <tr>\n",
       "      <th>2</th>\n",
       "      <td>aliayah</td>\n",
       "      <td>jackson</td>\n",
       "      <td>paper c</td>\n",
       "      <td>41.93</td>\n",
       "      <td>53.02</td>\n",
       "      <td>0.31</td>\n",
       "      <td>1.04</td>\n",
       "      <td>2.18</td>\n",
       "      <td>1.53</td>\n",
       "      <td>aliayah</td>\n",
       "      <td>female</td>\n",
       "      <td>1.00</td>\n",
       "      <td>3</td>\n",
       "      <td>1.00</td>\n",
       "      <td>0.00</td>\n",
       "    </tr>\n",
       "  </tbody>\n",
       "</table>\n",
       "</div>"
      ],
      "text/plain": [
       "     fname    lname    title  white  black  asian  \\\n",
       "0    amber    smith  paper a  73.35  22.22   0.40   \n",
       "1     yang    zhang  paper b   0.61   0.09  98.16   \n",
       "2  aliayah  jackson  paper c  41.93  53.02   0.31   \n",
       "\n",
       "  american_indian_alaskan_native multi_race hispanic     name  gender  \\\n",
       "0                           0.85       1.63     1.56    amber  female   \n",
       "1                           0.02       0.96     0.16     yang    male   \n",
       "2                           1.04       2.18     1.53  aliayah  female   \n",
       "\n",
       "   probability  count  p_female  p_male  \n",
       "0         0.95   5248      0.95    0.05  \n",
       "1         0.64   3869      0.36    0.64  \n",
       "2         1.00      3      1.00    0.00  "
      ]
     },
     "execution_count": 16,
     "metadata": {},
     "output_type": "execute_result"
    }
   ],
   "source": [
    "df.merge(gender_prob, left_on = 'fname', right_on = 'name')"
   ]
  }
 ],
 "metadata": {
  "kernelspec": {
   "display_name": "Python 3 (ipykernel)",
   "language": "python",
   "name": "python3"
  },
  "language_info": {
   "codemirror_mode": {
    "name": "ipython",
    "version": 3
   },
   "file_extension": ".py",
   "mimetype": "text/x-python",
   "name": "python",
   "nbconvert_exporter": "python",
   "pygments_lexer": "ipython3",
   "version": "3.9.7"
  }
 },
 "nbformat": 4,
 "nbformat_minor": 5
}
