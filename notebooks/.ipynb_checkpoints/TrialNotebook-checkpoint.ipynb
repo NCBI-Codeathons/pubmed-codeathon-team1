{
 "cells": [
  {
   "cell_type": "code",
   "execution_count": 1,
   "id": "a676a21b",
   "metadata": {},
   "outputs": [],
   "source": [
    "import pandas as pd"
   ]
  },
  {
   "cell_type": "code",
   "execution_count": 2,
   "id": "146750e3",
   "metadata": {},
   "outputs": [],
   "source": [
    "from Bio import Entrez"
   ]
  },
  {
   "cell_type": "code",
   "execution_count": 3,
   "id": "e589027c",
   "metadata": {},
   "outputs": [],
   "source": [
    "Entrez.email = \"charishruthi@gmail.com\""
   ]
  },
  {
   "cell_type": "code",
   "execution_count": 36,
   "id": "1ae621ff",
   "metadata": {},
   "outputs": [
    {
     "name": "stdout",
     "output_type": "stream",
     "text": [
      "{'Item': [], 'Id': '19304878', 'PubDate': '2009 Jun 1', 'EPubDate': '2009 Mar 20', 'Source': 'Bioinformatics', 'AuthorList': ['Cock PJ', 'Antao T', 'Chang JT', 'Chapman BA', 'Cox CJ', 'Dalke A', 'Friedberg I', 'Hamelryck T', 'Kauff F', 'Wilczynski B', 'de Hoon MJ'], 'LastAuthor': 'de Hoon MJ', 'Title': 'Biopython: freely available Python tools for computational molecular biology and bioinformatics.', 'Volume': '25', 'Issue': '11', 'Pages': '1422-3', 'LangList': ['English'], 'NlmUniqueID': '9808944', 'ISSN': '1367-4803', 'ESSN': '1367-4811', 'PubTypeList': ['Journal Article'], 'RecordStatus': 'PubMed - indexed for MEDLINE', 'PubStatus': 'ppublish+epublish', 'ArticleIds': {'pubmed': ['19304878'], 'medline': [], 'pii': 'btp163', 'doi': '10.1093/bioinformatics/btp163', 'pmc': 'PMC2682512', 'rid': '19304878', 'eid': '19304878', 'pmcid': 'pmc-id: PMC2682512;'}, 'DOI': '10.1093/bioinformatics/btp163', 'History': {'pubmed': ['2009/03/24 09:00'], 'medline': ['2009/07/10 09:00'], 'entrez': '2009/03/24 09:00'}, 'References': [], 'HasAbstract': IntegerElement(1, attributes={}), 'PmcRefCount': IntegerElement(1431, attributes={}), 'FullJournalName': 'Bioinformatics (Oxford, England)', 'ELocationID': 'doi: 10.1093/bioinformatics/btp163', 'SO': '2009 Jun 1;25(11):1422-3'}\n"
     ]
    }
   ],
   "source": [
    "handle = Entrez.esummary(db=\"pubmed\", id=\"14630660\", format=\"XML\")\n",
    "\n",
    "records = Entrez.read(handle)\n",
    "\n",
    "\n",
    "for record in records:\n",
    "    print(record)"
   ]
  },
  {
   "cell_type": "code",
   "execution_count": 27,
   "id": "9bd4f9a3",
   "metadata": {},
   "outputs": [
    {
     "data": {
      "text/plain": [
       "<generator object DataHandler.parse at 0x7f987b488d60>"
      ]
     },
     "execution_count": 27,
     "metadata": {},
     "output_type": "execute_result"
    }
   ],
   "source": [
    "records"
   ]
  },
  {
   "cell_type": "code",
   "execution_count": 19,
   "id": "a4417a2b",
   "metadata": {},
   "outputs": [],
   "source": []
  },
  {
   "cell_type": "code",
   "execution_count": 16,
   "id": "fa4ab1f3",
   "metadata": {},
   "outputs": [
    {
     "data": {
      "text/plain": [
       "<generator object DataHandler.parse at 0x7f987c3de120>"
      ]
     },
     "execution_count": 16,
     "metadata": {},
     "output_type": "execute_result"
    }
   ],
   "source": []
  },
  {
   "cell_type": "code",
   "execution_count": 20,
   "id": "a17a3e2f",
   "metadata": {},
   "outputs": [
    {
     "name": "stdout",
     "output_type": "stream",
     "text": [
      "{'Item': [], 'Id': '19304878', 'PubDate': '2009 Jun 1', 'EPubDate': '2009 Mar 20', 'Source': 'Bioinformatics', 'AuthorList': ['Cock PJ', 'Antao T', 'Chang JT', 'Chapman BA', 'Cox CJ', 'Dalke A', 'Friedberg I', 'Hamelryck T', 'Kauff F', 'Wilczynski B', 'de Hoon MJ'], 'LastAuthor': 'de Hoon MJ', 'Title': 'Biopython: freely available Python tools for computational molecular biology and bioinformatics.', 'Volume': '25', 'Issue': '11', 'Pages': '1422-3', 'LangList': ['English'], 'NlmUniqueID': '9808944', 'ISSN': '1367-4803', 'ESSN': '1367-4811', 'PubTypeList': ['Journal Article'], 'RecordStatus': 'PubMed - indexed for MEDLINE', 'PubStatus': 'ppublish+epublish', 'ArticleIds': {'pubmed': ['19304878'], 'medline': [], 'pii': 'btp163', 'doi': '10.1093/bioinformatics/btp163', 'pmc': 'PMC2682512', 'rid': '19304878', 'eid': '19304878', 'pmcid': 'pmc-id: PMC2682512;'}, 'DOI': '10.1093/bioinformatics/btp163', 'History': {'pubmed': ['2009/03/24 09:00'], 'medline': ['2009/07/10 09:00'], 'entrez': '2009/03/24 09:00'}, 'References': [], 'HasAbstract': IntegerElement(1, attributes={}), 'PmcRefCount': IntegerElement(1431, attributes={}), 'FullJournalName': 'Bioinformatics (Oxford, England)', 'ELocationID': 'doi: 10.1093/bioinformatics/btp163', 'SO': '2009 Jun 1;25(11):1422-3'}\n"
     ]
    }
   ],
   "source": []
  },
  {
   "cell_type": "code",
   "execution_count": null,
   "id": "b126e363",
   "metadata": {},
   "outputs": [],
   "source": []
  }
 ],
 "metadata": {
  "kernelspec": {
   "display_name": "Python 3 (ipykernel)",
   "language": "python",
   "name": "python3"
  },
  "language_info": {
   "codemirror_mode": {
    "name": "ipython",
    "version": 3
   },
   "file_extension": ".py",
   "mimetype": "text/x-python",
   "name": "python",
   "nbconvert_exporter": "python",
   "pygments_lexer": "ipython3",
   "version": "3.9.7"
  }
 },
 "nbformat": 4,
 "nbformat_minor": 5
}
