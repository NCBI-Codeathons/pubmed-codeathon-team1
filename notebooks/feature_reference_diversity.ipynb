{
 "cells": [
  {
   "cell_type": "code",
   "execution_count": 76,
   "id": "99adf446",
   "metadata": {},
   "outputs": [],
   "source": [
    "import pandas as pd\n",
    "import numpy as np\n",
    "from pathlib import Path\n",
    "from ast import literal_eval"
   ]
  },
  {
   "cell_type": "code",
   "execution_count": 45,
   "id": "1adb34c7",
   "metadata": {},
   "outputs": [],
   "source": [
    "#Defining group by criteria\n",
    "group_keys = [\"query\", \"search_type\", \"page\"]"
   ]
  },
  {
   "cell_type": "code",
   "execution_count": 46,
   "id": "434bb602",
   "metadata": {},
   "outputs": [],
   "source": [
    "# Load in data file\n",
    "df =  pd.read_csv('../data/out/pmid_data.csv')"
   ]
  },
  {
   "cell_type": "code",
   "execution_count": 47,
   "id": "e62d5bcf",
   "metadata": {},
   "outputs": [
    {
     "data": {
      "text/html": [
       "<div>\n",
       "<style scoped>\n",
       "    .dataframe tbody tr th:only-of-type {\n",
       "        vertical-align: middle;\n",
       "    }\n",
       "\n",
       "    .dataframe tbody tr th {\n",
       "        vertical-align: top;\n",
       "    }\n",
       "\n",
       "    .dataframe thead th {\n",
       "        text-align: right;\n",
       "    }\n",
       "</style>\n",
       "<table border=\"1\" class=\"dataframe\">\n",
       "  <thead>\n",
       "    <tr style=\"text-align: right;\">\n",
       "      <th></th>\n",
       "      <th>query</th>\n",
       "      <th>search_type</th>\n",
       "      <th>page</th>\n",
       "      <th>references</th>\n",
       "    </tr>\n",
       "  </thead>\n",
       "  <tbody>\n",
       "    <tr>\n",
       "      <th>0</th>\n",
       "      <td>Moyamoya</td>\n",
       "      <td>relevance</td>\n",
       "      <td>1</td>\n",
       "      <td>[11390315, 10724101, 6823678, 11197712, 102350...</td>\n",
       "    </tr>\n",
       "    <tr>\n",
       "      <th>1</th>\n",
       "      <td>Moyamoya</td>\n",
       "      <td>relevance</td>\n",
       "      <td>1</td>\n",
       "      <td>[22020027, 1282678, 5554209, 9409399, 23445954...</td>\n",
       "    </tr>\n",
       "    <tr>\n",
       "      <th>2</th>\n",
       "      <td>Moyamoya</td>\n",
       "      <td>relevance</td>\n",
       "      <td>1</td>\n",
       "      <td>[22020027, 18066556, 17138018, 11390315, 23445...</td>\n",
       "    </tr>\n",
       "    <tr>\n",
       "      <th>3</th>\n",
       "      <td>Moyamoya</td>\n",
       "      <td>relevance</td>\n",
       "      <td>1</td>\n",
       "      <td>[7221855, 16788009, 20495424, 23909250, 161318...</td>\n",
       "    </tr>\n",
       "    <tr>\n",
       "      <th>4</th>\n",
       "      <td>Moyamoya</td>\n",
       "      <td>relevance</td>\n",
       "      <td>1</td>\n",
       "      <td>[6823678, 26756907, 18625642, 9409432, 1106308...</td>\n",
       "    </tr>\n",
       "    <tr>\n",
       "      <th>...</th>\n",
       "      <td>...</td>\n",
       "      <td>...</td>\n",
       "      <td>...</td>\n",
       "      <td>...</td>\n",
       "    </tr>\n",
       "    <tr>\n",
       "      <th>7201</th>\n",
       "      <td>literacy skills</td>\n",
       "      <td>pubdate_desc</td>\n",
       "      <td>2</td>\n",
       "      <td>[27436235, 16338915, 28367762, 30146073, 98035...</td>\n",
       "    </tr>\n",
       "    <tr>\n",
       "      <th>7202</th>\n",
       "      <td>literacy skills</td>\n",
       "      <td>pubdate_desc</td>\n",
       "      <td>2</td>\n",
       "      <td>[]</td>\n",
       "    </tr>\n",
       "    <tr>\n",
       "      <th>7203</th>\n",
       "      <td>literacy skills</td>\n",
       "      <td>pubdate_desc</td>\n",
       "      <td>2</td>\n",
       "      <td>[]</td>\n",
       "    </tr>\n",
       "    <tr>\n",
       "      <th>7204</th>\n",
       "      <td>literacy skills</td>\n",
       "      <td>pubdate_desc</td>\n",
       "      <td>2</td>\n",
       "      <td>[]</td>\n",
       "    </tr>\n",
       "    <tr>\n",
       "      <th>7205</th>\n",
       "      <td>literacy skills</td>\n",
       "      <td>pubdate_desc</td>\n",
       "      <td>2</td>\n",
       "      <td>[]</td>\n",
       "    </tr>\n",
       "  </tbody>\n",
       "</table>\n",
       "<p>7206 rows × 4 columns</p>\n",
       "</div>"
      ],
      "text/plain": [
       "                query   search_type  page  \\\n",
       "0            Moyamoya     relevance     1   \n",
       "1            Moyamoya     relevance     1   \n",
       "2            Moyamoya     relevance     1   \n",
       "3            Moyamoya     relevance     1   \n",
       "4            Moyamoya     relevance     1   \n",
       "...               ...           ...   ...   \n",
       "7201  literacy skills  pubdate_desc     2   \n",
       "7202  literacy skills  pubdate_desc     2   \n",
       "7203  literacy skills  pubdate_desc     2   \n",
       "7204  literacy skills  pubdate_desc     2   \n",
       "7205  literacy skills  pubdate_desc     2   \n",
       "\n",
       "                                             references  \n",
       "0     [11390315, 10724101, 6823678, 11197712, 102350...  \n",
       "1     [22020027, 1282678, 5554209, 9409399, 23445954...  \n",
       "2     [22020027, 18066556, 17138018, 11390315, 23445...  \n",
       "3     [7221855, 16788009, 20495424, 23909250, 161318...  \n",
       "4     [6823678, 26756907, 18625642, 9409432, 1106308...  \n",
       "...                                                 ...  \n",
       "7201  [27436235, 16338915, 28367762, 30146073, 98035...  \n",
       "7202                                                 []  \n",
       "7203                                                 []  \n",
       "7204                                                 []  \n",
       "7205                                                 []  \n",
       "\n",
       "[7206 rows x 4 columns]"
      ]
     },
     "execution_count": 47,
     "metadata": {},
     "output_type": "execute_result"
    }
   ],
   "source": [
    "# Keep only what's needed\n",
    "df = df[group_keys + ['references']]\n",
    "df"
   ]
  },
  {
   "cell_type": "code",
   "execution_count": 49,
   "id": "b9f07232",
   "metadata": {},
   "outputs": [],
   "source": [
    "# Drop missing values, drop those without any references\n",
    "df = df.dropna(subset=['references'])\n",
    "df = df[df['references'].str.len() > 2]"
   ]
  },
  {
   "cell_type": "code",
   "execution_count": 55,
   "id": "db8ba59a",
   "metadata": {},
   "outputs": [
    {
     "data": {
      "text/plain": [
       "page  search_type \n",
       "1     pubdate_desc     970\n",
       "      relevance       1567\n",
       "2     pubdate_desc    1053\n",
       "      relevance       1553\n",
       "dtype: int64"
      ]
     },
     "execution_count": 55,
     "metadata": {},
     "output_type": "execute_result"
    }
   ],
   "source": [
    "# Check the counts, make sure we still have plenty of stats\n",
    "df.groupby(['page','search_type']).size()"
   ]
  },
  {
   "cell_type": "code",
   "execution_count": 63,
   "id": "f3f09912",
   "metadata": {},
   "outputs": [
    {
     "data": {
      "text/plain": [
       "0       {11037190, 15528455, 10795533, 15362573, 16645...\n",
       "1       {22870528, 15528455, 27180559, 11914260, 55542...\n",
       "2       {11037190, 15362573, 16302616, 24201757, 33515...\n",
       "3       {23909250, 22871684, 22149381, 26645256, 24605...\n",
       "4       {22870528, 18787200, 24595588, 18463369, 18232...\n",
       "                              ...                        \n",
       "7196    {28706433, 19691970, 27617354, 26346443, 97294...\n",
       "7197                       {23869633, 30811884, 29034727}\n",
       "7198    {19481221, 19608198, 9450374, 25462034, 984911...\n",
       "7199    {23343756, 20423439, 18184597, 25993372, 21288...\n",
       "7201    {30851841, 9803527, 12584072, 9282700, 2836776...\n",
       "Name: refs, Length: 5143, dtype: object"
      ]
     },
     "execution_count": 63,
     "metadata": {},
     "output_type": "execute_result"
    }
   ],
   "source": [
    "# Convert references from string to list\n",
    "df['refs'] = df['references'].apply(lambda x:set(literal_eval(x)))\n",
    "df.refs"
   ]
  },
  {
   "cell_type": "code",
   "execution_count": 77,
   "id": "d667d186",
   "metadata": {},
   "outputs": [],
   "source": [
    "# For each item in group_keys, compute the mean set overlap of references\n",
    "data = []\n",
    "for keys, dx in df.groupby(group_keys):\n",
    "    n = len(dx.refs)\n",
    "    mean_jac = []\n",
    "    for i in range(n):\n",
    "        for j in range(i+1, n):\n",
    "            r1 = dx.refs.iloc[i]\n",
    "            r2 = dx.refs.iloc[j]\n",
    "            k = len(r1.intersection(r2))\n",
    "            jac = k / (len(r1)+len(r2)-k)\n",
    "            mean_jac.append(jac)\n",
    "    row = dict(zip(group_keys, keys))\n",
    "    row['reference_diversity'] = np.average(mean_jac)\n",
    "    data.append(row)"
   ]
  },
  {
   "cell_type": "code",
   "execution_count": 82,
   "id": "1789f773",
   "metadata": {},
   "outputs": [
    {
     "data": {
      "text/html": [
       "<div>\n",
       "<style scoped>\n",
       "    .dataframe tbody tr th:only-of-type {\n",
       "        vertical-align: middle;\n",
       "    }\n",
       "\n",
       "    .dataframe tbody tr th {\n",
       "        vertical-align: top;\n",
       "    }\n",
       "\n",
       "    .dataframe thead th {\n",
       "        text-align: right;\n",
       "    }\n",
       "</style>\n",
       "<table border=\"1\" class=\"dataframe\">\n",
       "  <thead>\n",
       "    <tr style=\"text-align: right;\">\n",
       "      <th></th>\n",
       "      <th>query</th>\n",
       "      <th>search_type</th>\n",
       "      <th>page</th>\n",
       "      <th>reference_diversity</th>\n",
       "    </tr>\n",
       "  </thead>\n",
       "  <tbody>\n",
       "    <tr>\n",
       "      <th>0</th>\n",
       "      <td>AMPK signalling pathway</td>\n",
       "      <td>pubdate_desc</td>\n",
       "      <td>1</td>\n",
       "      <td>0.000689</td>\n",
       "    </tr>\n",
       "    <tr>\n",
       "      <th>1</th>\n",
       "      <td>AMPK signalling pathway</td>\n",
       "      <td>pubdate_desc</td>\n",
       "      <td>2</td>\n",
       "      <td>0.001389</td>\n",
       "    </tr>\n",
       "    <tr>\n",
       "      <th>2</th>\n",
       "      <td>AMPK signalling pathway</td>\n",
       "      <td>relevance</td>\n",
       "      <td>1</td>\n",
       "      <td>0.028141</td>\n",
       "    </tr>\n",
       "    <tr>\n",
       "      <th>3</th>\n",
       "      <td>AMPK signalling pathway</td>\n",
       "      <td>relevance</td>\n",
       "      <td>2</td>\n",
       "      <td>0.010498</td>\n",
       "    </tr>\n",
       "    <tr>\n",
       "      <th>4</th>\n",
       "      <td>Acalabrutinib</td>\n",
       "      <td>pubdate_desc</td>\n",
       "      <td>1</td>\n",
       "      <td>0.032724</td>\n",
       "    </tr>\n",
       "    <tr>\n",
       "      <th>...</th>\n",
       "      <td>...</td>\n",
       "      <td>...</td>\n",
       "      <td>...</td>\n",
       "      <td>...</td>\n",
       "    </tr>\n",
       "    <tr>\n",
       "      <th>700</th>\n",
       "      <td>public transportation</td>\n",
       "      <td>relevance</td>\n",
       "      <td>1</td>\n",
       "      <td>0.003203</td>\n",
       "    </tr>\n",
       "    <tr>\n",
       "      <th>701</th>\n",
       "      <td>public transportation</td>\n",
       "      <td>relevance</td>\n",
       "      <td>2</td>\n",
       "      <td>0.000794</td>\n",
       "    </tr>\n",
       "    <tr>\n",
       "      <th>703</th>\n",
       "      <td>structural racism</td>\n",
       "      <td>pubdate_desc</td>\n",
       "      <td>2</td>\n",
       "      <td>0.002149</td>\n",
       "    </tr>\n",
       "    <tr>\n",
       "      <th>704</th>\n",
       "      <td>structural racism</td>\n",
       "      <td>relevance</td>\n",
       "      <td>1</td>\n",
       "      <td>0.017225</td>\n",
       "    </tr>\n",
       "    <tr>\n",
       "      <th>705</th>\n",
       "      <td>structural racism</td>\n",
       "      <td>relevance</td>\n",
       "      <td>2</td>\n",
       "      <td>0.011483</td>\n",
       "    </tr>\n",
       "  </tbody>\n",
       "</table>\n",
       "<p>680 rows × 4 columns</p>\n",
       "</div>"
      ],
      "text/plain": [
       "                       query   search_type  page  reference_diversity\n",
       "0    AMPK signalling pathway  pubdate_desc     1             0.000689\n",
       "1    AMPK signalling pathway  pubdate_desc     2             0.001389\n",
       "2    AMPK signalling pathway     relevance     1             0.028141\n",
       "3    AMPK signalling pathway     relevance     2             0.010498\n",
       "4              Acalabrutinib  pubdate_desc     1             0.032724\n",
       "..                       ...           ...   ...                  ...\n",
       "700    public transportation     relevance     1             0.003203\n",
       "701    public transportation     relevance     2             0.000794\n",
       "703        structural racism  pubdate_desc     2             0.002149\n",
       "704        structural racism     relevance     1             0.017225\n",
       "705        structural racism     relevance     2             0.011483\n",
       "\n",
       "[680 rows x 4 columns]"
      ]
     },
     "execution_count": 82,
     "metadata": {},
     "output_type": "execute_result"
    }
   ],
   "source": [
    "g = pd.DataFrame(data).dropna()\n",
    "g"
   ]
  },
  {
   "cell_type": "code",
   "execution_count": 85,
   "id": "668f4e8d",
   "metadata": {},
   "outputs": [
    {
     "data": {
      "text/plain": [
       "search_type   page\n",
       "pubdate_desc  1       0.006810\n",
       "              2       0.006980\n",
       "relevance     1       0.025754\n",
       "              2       0.017880\n",
       "Name: reference_diversity, dtype: float64"
      ]
     },
     "execution_count": 85,
     "metadata": {},
     "output_type": "execute_result"
    }
   ],
   "source": [
    "# Sanity check to see if value is different (looks like there might be something!)\n",
    "g.reset_index().groupby(['search_type','page'])['reference_diversity'].mean()"
   ]
  },
  {
   "cell_type": "code",
   "execution_count": 44,
   "id": "aab511b7",
   "metadata": {},
   "outputs": [],
   "source": [
    "# Save to feature set\n",
    "save_dest = Path(\"../data/features/\")\n",
    "apt_dx.to_csv(save_dest / \"RCR.csv\")"
   ]
  }
 ],
 "metadata": {
  "kernelspec": {
   "display_name": "Python 3 (ipykernel)",
   "language": "python",
   "name": "python3"
  },
  "language_info": {
   "codemirror_mode": {
    "name": "ipython",
    "version": 3
   },
   "file_extension": ".py",
   "mimetype": "text/x-python",
   "name": "python",
   "nbconvert_exporter": "python",
   "pygments_lexer": "ipython3",
   "version": "3.9.0"
  }
 },
 "nbformat": 4,
 "nbformat_minor": 5
}
