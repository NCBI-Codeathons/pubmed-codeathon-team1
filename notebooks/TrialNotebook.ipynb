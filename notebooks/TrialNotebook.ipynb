{
 "cells": [
  {
   "cell_type": "code",
   "execution_count": 1,
   "id": "a676a21b",
   "metadata": {},
   "outputs": [],
   "source": [
    "import pandas as pd"
   ]
  },
  {
   "cell_type": "code",
   "execution_count": 2,
   "id": "146750e3",
   "metadata": {},
   "outputs": [],
   "source": [
    "from Bio import Entrez"
   ]
  },
  {
   "cell_type": "code",
   "execution_count": 3,
   "id": "a73a296d",
   "metadata": {},
   "outputs": [],
   "source": [
    "Entrez.email = \"\""
   ]
  },
  {
   "cell_type": "code",
   "execution_count": 4,
   "id": "ea45070c",
   "metadata": {},
   "outputs": [
    {
     "name": "stdout",
     "output_type": "stream",
     "text": [
      "{'Item': [], 'Id': '14630660', 'PubDate': '2003 Nov 22', 'EPubDate': '', 'Source': 'Bioinformatics', 'AuthorList': ['Hamelryck T', 'Manderick B'], 'LastAuthor': 'Manderick B', 'Title': 'PDB file parser and structure class implemented in Python.', 'Volume': '19', 'Issue': '17', 'Pages': '2308-10', 'LangList': ['English'], 'NlmUniqueID': '9808944', 'ISSN': '1367-4803', 'ESSN': '1367-4811', 'PubTypeList': ['Journal Article'], 'RecordStatus': 'PubMed - indexed for MEDLINE', 'PubStatus': 'ppublish', 'ArticleIds': {'pubmed': ['14630660'], 'medline': [], 'doi': '10.1093/bioinformatics/btg299', 'rid': '14630660', 'eid': '14630660'}, 'DOI': '10.1093/bioinformatics/btg299', 'History': {'pubmed': ['2003/11/25 05:00'], 'medline': ['2004/07/23 05:00'], 'entrez': '2003/11/25 05:00'}, 'References': [], 'HasAbstract': IntegerElement(1, attributes={}), 'PmcRefCount': IntegerElement(86, attributes={}), 'FullJournalName': 'Bioinformatics (Oxford, England)', 'ELocationID': '', 'SO': '2003 Nov 22;19(17):2308-10'}\n"
     ]
    }
   ],
   "source": [
    "handle = Entrez.esummary(db=\"pubmed\", id=\"14630660\", format=\"XML\")\n",
    "\n",
    "records = Entrez.read(handle)\n",
    "\n",
    "\n",
    "for record in records:\n",
    "    print(record)"
   ]
  },
  {
   "cell_type": "code",
   "execution_count": 5,
   "id": "ab535601",
   "metadata": {},
   "outputs": [],
   "source": [
    "import sys\n",
    "sys.path.append('../')"
   ]
  },
  {
   "cell_type": "code",
   "execution_count": 6,
   "id": "19f92a05",
   "metadata": {},
   "outputs": [],
   "source": [
    "from team1Python import eutil"
   ]
  },
  {
   "cell_type": "code",
   "execution_count": 7,
   "id": "08876048",
   "metadata": {},
   "outputs": [],
   "source": [
    "eutils = eutil.EUtils(\n",
    "        '8d4c4f67f2a663e9d0ef6ed4d60a4eedd609',  # API key\n",
    "        'brian.lee@cdc.gov',  # Email address - unused\n",
    "        20,  # API calls per second\n",
    "        'https://eutilspreview.ncbi.nlm.nih.gov/entrez'\n",
    "        # URL prefix for preview - normally not needed\n",
    "    )\n"
   ]
  },
  {
   "cell_type": "code",
   "execution_count": 8,
   "id": "ceb7f14d",
   "metadata": {},
   "outputs": [],
   "source": [
    "from lxml import etree"
   ]
  },
  {
   "cell_type": "code",
   "execution_count": 9,
   "id": "a3ac95b4",
   "metadata": {},
   "outputs": [],
   "source": [
    "def print_element(root, pretty_print=True):\n",
    "    buf = etree.tostring(\n",
    "        root,\n",
    "        encoding='utf-8',\n",
    "        pretty_print=pretty_print\n",
    "    )\n",
    "    return buf.decode('utf-8')"
   ]
  },
  {
   "cell_type": "code",
   "execution_count": 10,
   "id": "31718b5f",
   "metadata": {},
   "outputs": [],
   "source": [
    "r = eutils.efetch('pubmed', 14630660, rettype='xml')\n",
    "r.raise_for_status()\n",
    "assert r.headers['Content-Type'].startswith('text/xml')\n",
    "doc = r.xml()\n",
    "doc_pp = print_element(doc)"
   ]
  },
  {
   "cell_type": "code",
   "execution_count": 12,
   "id": "dc73e8d6",
   "metadata": {},
   "outputs": [],
   "source": [
    "import xmltodict\n",
    "import json"
   ]
  },
  {
   "cell_type": "code",
   "execution_count": 13,
   "id": "32747b6a",
   "metadata": {},
   "outputs": [],
   "source": [
    "jsonString = json.dumps(xmltodict.parse(doc_pp))"
   ]
  },
  {
   "cell_type": "code",
   "execution_count": 14,
   "id": "adc47676",
   "metadata": {},
   "outputs": [],
   "source": [
    "json_obj = json.loads(jsonString)"
   ]
  },
  {
   "cell_type": "code",
   "execution_count": 15,
   "id": "45f5dadc",
   "metadata": {},
   "outputs": [
    {
     "data": {
      "text/plain": [
       "{'MedlineCitation': {'@Status': 'MEDLINE',\n",
       "  '@Owner': 'NLM',\n",
       "  'PMID': {'@Version': '1', '#text': '14630660'},\n",
       "  'DateCompleted': {'Year': '2004', 'Month': '07', 'Day': '22'},\n",
       "  'DateRevised': {'Year': '2019', 'Month': '12', 'Day': '10'},\n",
       "  'Article': {'@PubModel': 'Print',\n",
       "   'Journal': {'ISSN': {'@IssnType': 'Print', '#text': '1367-4803'},\n",
       "    'JournalIssue': {'@CitedMedium': 'Print',\n",
       "     'Volume': '19',\n",
       "     'Issue': '17',\n",
       "     'PubDate': {'Year': '2003', 'Month': 'Nov', 'Day': '22'}},\n",
       "    'Title': 'Bioinformatics (Oxford, England)',\n",
       "    'ISOAbbreviation': 'Bioinformatics'},\n",
       "   'ArticleTitle': 'PDB file parser and structure class implemented in Python.',\n",
       "   'Pagination': {'StartPage': '2308',\n",
       "    'EndPage': '2310',\n",
       "    'MedlinePgn': '2308-10'},\n",
       "   'Abstract': {'AbstractText': [{'@Label': 'UNLABELLED',\n",
       "      '#text': 'The biopython project provides a set of bioinformatics tools implemented in Python. Recently, biopython was extended with a set of modules that deal with macromolecular structure. Biopython now contains a parser for PDB files that makes the atomic information available in an easy-to-use but powerful data structure. The parser and data structure deal with features that are often left out or handled inadequately by other packages, e.g. atom and residue disorder (if point mutants are present in the crystal), anisotropic B factors, multiple models and insertion codes. In addition, the parser performs some sanity checking to detect obvious errors.'},\n",
       "     {'@Label': 'AVAILABILITY',\n",
       "      '@NlmCategory': 'BACKGROUND',\n",
       "      '#text': 'The Biopython distribution (including source code and documentation) is freely available (under the Biopython license) from http://www.biopython.org'}]},\n",
       "   'AuthorList': {'@CompleteYN': 'Y',\n",
       "    'Author': [{'@ValidYN': 'Y',\n",
       "      'LastName': 'Hamelryck',\n",
       "      'ForeName': 'Thomas',\n",
       "      'Initials': 'T',\n",
       "      'AffiliationInfo': {'Affiliation': 'Department of Cellular and Molecular Interactions, Vlaams Interuniversitair Instituut voor Biotechnologie and Computational Modeling Lab, Department of Computer Science, Vrije Universiteit Brussel, Pleinlaan 2, 1050 Brussels, Belgium. thamelry@vub.ac.be'}},\n",
       "     {'@ValidYN': 'Y',\n",
       "      'LastName': 'Manderick',\n",
       "      'ForeName': 'Bernard',\n",
       "      'Initials': 'B'}]},\n",
       "   'Language': 'eng',\n",
       "   'PublicationTypeList': {'PublicationType': [{'@UI': 'D003160',\n",
       "      '#text': 'Comparative Study'},\n",
       "     {'@UI': 'D023362', '#text': 'Evaluation Study'},\n",
       "     {'@UI': 'D016428', '#text': 'Journal Article'},\n",
       "     {'@UI': 'D013485', '#text': \"Research Support, Non-U.S. Gov't\"},\n",
       "     {'@UI': 'D023361', '#text': 'Validation Study'}]}},\n",
       "  'MedlineJournalInfo': {'Country': 'England',\n",
       "   'MedlineTA': 'Bioinformatics',\n",
       "   'NlmUniqueID': '9808944',\n",
       "   'ISSNLinking': '1367-4803'},\n",
       "  'ChemicalList': {'Chemical': {'RegistryNumber': '0',\n",
       "    'NameOfSubstance': {'@UI': 'D046911',\n",
       "     '#text': 'Macromolecular Substances'}}},\n",
       "  'CitationSubset': 'IM',\n",
       "  'MeshHeadingList': {'MeshHeading': [{'DescriptorName': {'@UI': 'D003198',\n",
       "      '@MajorTopicYN': 'N',\n",
       "      '#text': 'Computer Simulation'}},\n",
       "    {'DescriptorName': {'@UI': 'D003628',\n",
       "      '@MajorTopicYN': 'N',\n",
       "      '#text': 'Database Management Systems'},\n",
       "     'QualifierName': {'@UI': 'Q000592',\n",
       "      '@MajorTopicYN': 'Y',\n",
       "      '#text': 'standards'}},\n",
       "    {'DescriptorName': {'@UI': 'D030562',\n",
       "      '@MajorTopicYN': 'Y',\n",
       "      '#text': 'Databases, Protein'}},\n",
       "    {'DescriptorName': {'@UI': 'D016247',\n",
       "      '@MajorTopicYN': 'N',\n",
       "      '#text': 'Information Storage and Retrieval'},\n",
       "     'QualifierName': [{'@UI': 'Q000379',\n",
       "       '@MajorTopicYN': 'Y',\n",
       "       '#text': 'methods'},\n",
       "      {'@UI': 'Q000592', '@MajorTopicYN': 'Y', '#text': 'standards'}]},\n",
       "    {'DescriptorName': {'@UI': 'D046911',\n",
       "      '@MajorTopicYN': 'N',\n",
       "      '#text': 'Macromolecular Substances'}},\n",
       "    {'DescriptorName': {'@UI': 'D008958',\n",
       "      '@MajorTopicYN': 'Y',\n",
       "      '#text': 'Models, Molecular'}},\n",
       "    {'DescriptorName': {'@UI': 'D011381',\n",
       "      '@MajorTopicYN': 'Y',\n",
       "      '#text': 'Programming Languages'}},\n",
       "    {'DescriptorName': {'@UI': 'D011487',\n",
       "      '@MajorTopicYN': 'N',\n",
       "      '#text': 'Protein Conformation'}},\n",
       "    {'DescriptorName': {'@UI': 'D012984',\n",
       "      '@MajorTopicYN': 'Y',\n",
       "      '#text': 'Software'}}]}},\n",
       " 'PubmedData': {'History': {'PubMedPubDate': [{'@PubStatus': 'pubmed',\n",
       "     'Year': '2003',\n",
       "     'Month': '11',\n",
       "     'Day': '25',\n",
       "     'Hour': '5',\n",
       "     'Minute': '0'},\n",
       "    {'@PubStatus': 'medline',\n",
       "     'Year': '2004',\n",
       "     'Month': '7',\n",
       "     'Day': '23',\n",
       "     'Hour': '5',\n",
       "     'Minute': '0'},\n",
       "    {'@PubStatus': 'entrez',\n",
       "     'Year': '2003',\n",
       "     'Month': '11',\n",
       "     'Day': '25',\n",
       "     'Hour': '5',\n",
       "     'Minute': '0'}]},\n",
       "  'PublicationStatus': 'ppublish',\n",
       "  'ArticleIdList': {'ArticleId': [{'@IdType': 'pubmed', '#text': '14630660'},\n",
       "    {'@IdType': 'doi', '#text': '10.1093/bioinformatics/btg299'}]}}}"
      ]
     },
     "execution_count": 15,
     "metadata": {},
     "output_type": "execute_result"
    }
   ],
   "source": [
    "json_obj['PubmedArticleSet']['PubmedArticle']"
   ]
  },
  {
   "cell_type": "code",
   "execution_count": null,
   "id": "142605e7",
   "metadata": {},
   "outputs": [],
   "source": []
  }
 ],
 "metadata": {
  "kernelspec": {
   "display_name": "Python 3 (ipykernel)",
   "language": "python",
   "name": "python3"
  },
  "language_info": {
   "codemirror_mode": {
    "name": "ipython",
    "version": 3
   },
   "file_extension": ".py",
   "mimetype": "text/x-python",
   "name": "python",
   "nbconvert_exporter": "python",
   "pygments_lexer": "ipython3",
   "version": "3.9.12"
  }
 },
 "nbformat": 4,
 "nbformat_minor": 5
}
