{
 "cells": [
  {
   "cell_type": "code",
   "execution_count": null,
   "id": "a676a21b",
   "metadata": {},
   "outputs": [],
   "source": [
    "import pandas as pd"
   ]
  },
  {
   "cell_type": "code",
   "execution_count": null,
   "id": "146750e3",
   "metadata": {},
   "outputs": [],
   "source": [
    "from Bio import Entrez"
   ]
  },
  {
   "cell_type": "code",
   "execution_count": null,
   "id": "a73a296d",
   "metadata": {},
   "outputs": [],
   "source": [
    "Entrez.email = \"\""
   ]
  },
  {
   "cell_type": "code",
   "execution_count": null,
   "id": "ea45070c",
   "metadata": {},
   "outputs": [],
   "source": [
    "handle = Entrez.esummary(db=\"pubmed\", id=\"14630660\", format=\"XML\")\n",
    "\n",
    "records = Entrez.read(handle)\n",
    "\n",
    "\n",
    "for record in records:\n",
    "    print(record)"
   ]
  },
  {
   "cell_type": "code",
   "execution_count": null,
   "id": "ab535601",
   "metadata": {},
   "outputs": [],
   "source": [
    "import sys\n",
    "sys.path.append('../')"
   ]
  },
  {
   "cell_type": "code",
   "execution_count": null,
   "id": "19f92a05",
   "metadata": {},
   "outputs": [],
   "source": [
    "from team1Python import eutil"
   ]
  },
  {
   "cell_type": "code",
   "execution_count": null,
   "id": "08876048",
   "metadata": {},
   "outputs": [],
   "source": [
    "eutils = eutil.EUtils(\n",
    "        '8d4c4f67f2a663e9d0ef6ed4d60a4eedd609',  # API key\n",
    "        'brian.lee@cdc.gov',  # Email address - unused\n",
    "        20,  # API calls per second\n",
    "        'https://eutilspreview.ncbi.nlm.nih.gov/entrez'\n",
    "        # URL prefix for preview - normally not needed\n",
    "    )\n"
   ]
  },
  {
   "cell_type": "code",
   "execution_count": null,
   "id": "ceb7f14d",
   "metadata": {},
   "outputs": [],
   "source": [
    "from lxml import etree"
   ]
  },
  {
   "cell_type": "code",
   "execution_count": null,
   "id": "a3ac95b4",
   "metadata": {},
   "outputs": [],
   "source": [
    "def print_element(root, pretty_print=True):\n",
    "    buf = etree.tostring(\n",
    "        root,\n",
    "        encoding='utf-8',\n",
    "        pretty_print=pretty_print\n",
    "    )\n",
    "    return buf.decode('utf-8')"
   ]
  },
  {
   "cell_type": "code",
   "execution_count": null,
   "id": "31718b5f",
   "metadata": {},
   "outputs": [],
   "source": [
    "r = eutils.efetch('pubmed', 14630660, rettype='xml')\n",
    "r.raise_for_status()\n",
    "assert r.headers['Content-Type'].startswith('text/xml')\n",
    "doc = r.xml()\n",
    "doc_pp = print_element(doc)"
   ]
  },
  {
   "cell_type": "code",
   "execution_count": null,
   "id": "dc73e8d6",
   "metadata": {},
   "outputs": [],
   "source": [
    "import xmltodict\n",
    "import json"
   ]
  },
  {
   "cell_type": "code",
   "execution_count": null,
   "id": "32747b6a",
   "metadata": {},
   "outputs": [],
   "source": [
    "jsonString = json.dumps(xmltodict.parse(doc_pp))"
   ]
  },
  {
   "cell_type": "code",
   "execution_count": null,
   "id": "adc47676",
   "metadata": {},
   "outputs": [],
   "source": [
    "json_obj = json.loads(jsonString)"
   ]
  },
  {
   "cell_type": "code",
   "execution_count": null,
   "id": "45f5dadc",
   "metadata": {},
   "outputs": [],
   "source": [
    "json_obj['PubmedArticleSet']['PubmedArticle']"
   ]
  },
  {
   "cell_type": "code",
   "execution_count": null,
   "id": "142605e7",
   "metadata": {},
   "outputs": [],
   "source": []
  }
 ],
 "metadata": {
  "kernelspec": {
   "display_name": "Python 3 (ipykernel)",
   "language": "python",
   "name": "python3"
  },
  "language_info": {
   "codemirror_mode": {
    "name": "ipython",
    "version": 3
   },
   "file_extension": ".py",
   "mimetype": "text/x-python",
   "name": "python",
   "nbconvert_exporter": "python",
   "pygments_lexer": "ipython3",
   "version": "3.9.7"
  }
 },
 "nbformat": 4,
 "nbformat_minor": 5
}
