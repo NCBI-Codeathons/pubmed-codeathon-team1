{
 "cells": [
  {
   "cell_type": "code",
   "execution_count": 1,
   "id": "99adf446",
   "metadata": {},
   "outputs": [],
   "source": [
    "import pandas as pd"
   ]
  },
  {
   "cell_type": "code",
   "execution_count": 19,
   "id": "b695f970",
   "metadata": {},
   "outputs": [],
   "source": [
    "import numpy as np\n",
    "from pathlib import Path"
   ]
  },
  {
   "cell_type": "code",
   "execution_count": 21,
   "id": "1adb34c7",
   "metadata": {},
   "outputs": [],
   "source": [
    "#Defining group by criteria\n",
    "group_keys = [\"query\", \"search_type\", \"page\"]"
   ]
  },
  {
   "cell_type": "markdown",
   "id": "a9b0ec19",
   "metadata": {},
   "source": [
    "Loading data file"
   ]
  },
  {
   "cell_type": "code",
   "execution_count": 2,
   "id": "434bb602",
   "metadata": {},
   "outputs": [],
   "source": [
    "pmid_file_data = pd.read_csv('../data/out/pmid_data.csv')"
   ]
  },
  {
   "cell_type": "code",
   "execution_count": 3,
   "id": "e62d5bcf",
   "metadata": {},
   "outputs": [
    {
     "data": {
      "text/plain": [
       "Index(['pmid', 'query', 'search_type', 'page', 'relative_citation_ratio',\n",
       "       'human', 'animal', 'molecular_cellular', 'apt', 'is_clinical',\n",
       "       'citation_count', 'cited_by', 'references', 'title', 'abstract',\n",
       "       'journal', 'authors', 'affiliations', 'pubdate', 'mesh_terms',\n",
       "       'publication_types', 'chemical_list', 'keywords', 'languages',\n",
       "       'country'],\n",
       "      dtype='object')"
      ]
     },
     "execution_count": 3,
     "metadata": {},
     "output_type": "execute_result"
    }
   ],
   "source": [
    "pmid_file_data.columns"
   ]
  },
  {
   "cell_type": "markdown",
   "id": "3624da96",
   "metadata": {},
   "source": [
    "Running analysis on apt score column "
   ]
  },
  {
   "cell_type": "code",
   "execution_count": 8,
   "id": "1789f773",
   "metadata": {},
   "outputs": [],
   "source": [
    "# Drop missing values\n",
    "apt_df = pmid_file_data.dropna(subset=[\"apt\"])\n",
    "\n"
   ]
  },
  {
   "cell_type": "code",
   "execution_count": 26,
   "id": "7d4a4e5a",
   "metadata": {},
   "outputs": [
    {
     "data": {
      "text/plain": [
       "query                    search_type   page\n",
       "AMPK signalling pathway  pubdate_desc  1       0.045\n",
       "                                       2       0.035\n",
       "                         relevance     1       0.455\n",
       "                                       2       0.345\n",
       "Acalabrutinib            pubdate_desc  1       0.025\n",
       "                                               ...  \n",
       "public transportation    relevance     2       0.090\n",
       "structural racism        pubdate_desc  1       0.050\n",
       "                                       2       0.120\n",
       "                         relevance     1       0.590\n",
       "                                       2       0.420\n",
       "Name: apt, Length: 720, dtype: float64"
      ]
     },
     "execution_count": 26,
     "metadata": {},
     "output_type": "execute_result"
    }
   ],
   "source": [
    "apt_dx = pmid_file_data.groupby(group_keys)['apt'].mean()\n",
    "apt_dx"
   ]
  },
  {
   "cell_type": "code",
   "execution_count": null,
   "id": "481c1981",
   "metadata": {},
   "outputs": [],
   "source": []
  },
  {
   "cell_type": "code",
   "execution_count": 24,
   "id": "aab511b7",
   "metadata": {},
   "outputs": [],
   "source": [
    "# Save to feature set\n",
    "save_dest = Path(\"../data/features/\")\n",
    "apt_dx.to_csv(save_dest / \"apt.csv\")"
   ]
  },
  {
   "cell_type": "markdown",
   "id": "a9459f51",
   "metadata": {},
   "source": [
    "Crunching triangle of biomedicine - (human/cell/mol/cellular)"
   ]
  },
  {
   "cell_type": "code",
   "execution_count": 27,
   "id": "a68daba0",
   "metadata": {},
   "outputs": [
    {
     "data": {
      "text/plain": [
       "0       1.0\n",
       "1       1.0\n",
       "2       1.0\n",
       "3       1.0\n",
       "4       0.5\n",
       "       ... \n",
       "7201    1.0\n",
       "7202    0.0\n",
       "7203    1.0\n",
       "7204    1.0\n",
       "7205    1.0\n",
       "Name: human, Length: 7206, dtype: float64"
      ]
     },
     "execution_count": 27,
     "metadata": {},
     "output_type": "execute_result"
    }
   ],
   "source": [
    "pmid_file_data['human']"
   ]
  },
  {
   "cell_type": "code",
   "execution_count": 28,
   "id": "d0a4b37e",
   "metadata": {},
   "outputs": [
    {
     "data": {
      "text/plain": [
       "query                    search_type   page\n",
       "AMPK signalling pathway  pubdate_desc  1       0.117\n",
       "                                       2       0.211\n",
       "                         relevance     1       0.196\n",
       "                                       2       0.190\n",
       "Acalabrutinib            pubdate_desc  1       0.634\n",
       "                                               ...  \n",
       "public transportation    relevance     2       0.671\n",
       "structural racism        pubdate_desc  1       1.000\n",
       "                                       2       1.000\n",
       "                         relevance     1       0.875\n",
       "                                       2       0.925\n",
       "Name: human, Length: 720, dtype: float64"
      ]
     },
     "execution_count": 28,
     "metadata": {},
     "output_type": "execute_result"
    }
   ],
   "source": [
    "human_df = pmid_file_data.dropna(subset=[\"human\"])\n",
    "human_dx = human_df.groupby(group_keys)['human'].mean()\n",
    "human_dx"
   ]
  },
  {
   "cell_type": "code",
   "execution_count": 29,
   "id": "dcd6827e",
   "metadata": {},
   "outputs": [
    {
     "data": {
      "text/plain": [
       "query                    search_type   page\n",
       "AMPK signalling pathway  pubdate_desc  1       0.215\n",
       "                                       2       0.067\n",
       "                         relevance     1       0.241\n",
       "                                       2       0.213\n",
       "Acalabrutinib            pubdate_desc  1       0.070\n",
       "                                               ...  \n",
       "public transportation    relevance     2       0.000\n",
       "structural racism        pubdate_desc  1       0.000\n",
       "                                       2       0.000\n",
       "                         relevance     1       0.025\n",
       "                                       2       0.000\n",
       "Name: animal, Length: 720, dtype: float64"
      ]
     },
     "execution_count": 29,
     "metadata": {},
     "output_type": "execute_result"
    }
   ],
   "source": [
    "animal_df = pmid_file_data.dropna(subset=[\"animal\"])\n",
    "animal_dx = animal_df.groupby(group_keys)['animal'].mean()\n",
    "animal_dx"
   ]
  },
  {
   "cell_type": "code",
   "execution_count": 35,
   "id": "c1dc7ee8",
   "metadata": {},
   "outputs": [
    {
     "data": {
      "text/plain": [
       "query                    search_type   page\n",
       "AMPK signalling pathway  pubdate_desc  1       0.668\n",
       "                                       2       0.522\n",
       "                         relevance     1       0.564\n",
       "                                       2       0.595\n",
       "Acalabrutinib            pubdate_desc  1       0.296\n",
       "                                               ...  \n",
       "public transportation    relevance     2       0.029\n",
       "structural racism        pubdate_desc  1       0.000\n",
       "                                       2       0.000\n",
       "                         relevance     1       0.100\n",
       "                                       2       0.075\n",
       "Name: molecular_cellular, Length: 720, dtype: float64"
      ]
     },
     "execution_count": 35,
     "metadata": {},
     "output_type": "execute_result"
    }
   ],
   "source": [
    "molcellular_df = pmid_file_data.dropna(subset=[\"molecular_cellular\"])\n",
    "molcellular_dx = molcellular_df.groupby(group_keys)['molecular_cellular'].mean()\n",
    "molcellular_dx"
   ]
  },
  {
   "cell_type": "markdown",
   "id": "9a5693eb",
   "metadata": {},
   "source": [
    "Merging the three mean columns into one dataframe"
   ]
  },
  {
   "cell_type": "code",
   "execution_count": 36,
   "id": "de044e4e",
   "metadata": {},
   "outputs": [],
   "source": [
    "human_animal_df = pd.concat([human_dx, animal_dx], axis=1)"
   ]
  },
  {
   "cell_type": "code",
   "execution_count": 38,
   "id": "6ebab61c",
   "metadata": {},
   "outputs": [],
   "source": [
    "human_animal_molcellular_df = pd.concat([human_animal_df, molcellular_dx], axis=1)"
   ]
  },
  {
   "cell_type": "code",
   "execution_count": 39,
   "id": "8eb62c4b",
   "metadata": {},
   "outputs": [
    {
     "data": {
      "text/html": [
       "<div>\n",
       "<style scoped>\n",
       "    .dataframe tbody tr th:only-of-type {\n",
       "        vertical-align: middle;\n",
       "    }\n",
       "\n",
       "    .dataframe tbody tr th {\n",
       "        vertical-align: top;\n",
       "    }\n",
       "\n",
       "    .dataframe thead th {\n",
       "        text-align: right;\n",
       "    }\n",
       "</style>\n",
       "<table border=\"1\" class=\"dataframe\">\n",
       "  <thead>\n",
       "    <tr style=\"text-align: right;\">\n",
       "      <th></th>\n",
       "      <th></th>\n",
       "      <th></th>\n",
       "      <th>human</th>\n",
       "      <th>animal</th>\n",
       "      <th>molecular_cellular</th>\n",
       "    </tr>\n",
       "    <tr>\n",
       "      <th>query</th>\n",
       "      <th>search_type</th>\n",
       "      <th>page</th>\n",
       "      <th></th>\n",
       "      <th></th>\n",
       "      <th></th>\n",
       "    </tr>\n",
       "  </thead>\n",
       "  <tbody>\n",
       "    <tr>\n",
       "      <th rowspan=\"4\" valign=\"top\">AMPK signalling pathway</th>\n",
       "      <th rowspan=\"2\" valign=\"top\">pubdate_desc</th>\n",
       "      <th>1</th>\n",
       "      <td>0.117</td>\n",
       "      <td>0.215</td>\n",
       "      <td>0.668</td>\n",
       "    </tr>\n",
       "    <tr>\n",
       "      <th>2</th>\n",
       "      <td>0.211</td>\n",
       "      <td>0.067</td>\n",
       "      <td>0.522</td>\n",
       "    </tr>\n",
       "    <tr>\n",
       "      <th rowspan=\"2\" valign=\"top\">relevance</th>\n",
       "      <th>1</th>\n",
       "      <td>0.196</td>\n",
       "      <td>0.241</td>\n",
       "      <td>0.564</td>\n",
       "    </tr>\n",
       "    <tr>\n",
       "      <th>2</th>\n",
       "      <td>0.190</td>\n",
       "      <td>0.213</td>\n",
       "      <td>0.595</td>\n",
       "    </tr>\n",
       "    <tr>\n",
       "      <th>Acalabrutinib</th>\n",
       "      <th>pubdate_desc</th>\n",
       "      <th>1</th>\n",
       "      <td>0.634</td>\n",
       "      <td>0.070</td>\n",
       "      <td>0.296</td>\n",
       "    </tr>\n",
       "    <tr>\n",
       "      <th>...</th>\n",
       "      <th>...</th>\n",
       "      <th>...</th>\n",
       "      <td>...</td>\n",
       "      <td>...</td>\n",
       "      <td>...</td>\n",
       "    </tr>\n",
       "    <tr>\n",
       "      <th>public transportation</th>\n",
       "      <th>relevance</th>\n",
       "      <th>2</th>\n",
       "      <td>0.671</td>\n",
       "      <td>0.000</td>\n",
       "      <td>0.029</td>\n",
       "    </tr>\n",
       "    <tr>\n",
       "      <th rowspan=\"4\" valign=\"top\">structural racism</th>\n",
       "      <th rowspan=\"2\" valign=\"top\">pubdate_desc</th>\n",
       "      <th>1</th>\n",
       "      <td>1.000</td>\n",
       "      <td>0.000</td>\n",
       "      <td>0.000</td>\n",
       "    </tr>\n",
       "    <tr>\n",
       "      <th>2</th>\n",
       "      <td>1.000</td>\n",
       "      <td>0.000</td>\n",
       "      <td>0.000</td>\n",
       "    </tr>\n",
       "    <tr>\n",
       "      <th rowspan=\"2\" valign=\"top\">relevance</th>\n",
       "      <th>1</th>\n",
       "      <td>0.875</td>\n",
       "      <td>0.025</td>\n",
       "      <td>0.100</td>\n",
       "    </tr>\n",
       "    <tr>\n",
       "      <th>2</th>\n",
       "      <td>0.925</td>\n",
       "      <td>0.000</td>\n",
       "      <td>0.075</td>\n",
       "    </tr>\n",
       "  </tbody>\n",
       "</table>\n",
       "<p>720 rows × 3 columns</p>\n",
       "</div>"
      ],
      "text/plain": [
       "                                           human  animal  molecular_cellular\n",
       "query                   search_type  page                                   \n",
       "AMPK signalling pathway pubdate_desc 1     0.117   0.215               0.668\n",
       "                                     2     0.211   0.067               0.522\n",
       "                        relevance    1     0.196   0.241               0.564\n",
       "                                     2     0.190   0.213               0.595\n",
       "Acalabrutinib           pubdate_desc 1     0.634   0.070               0.296\n",
       "...                                          ...     ...                 ...\n",
       "public transportation   relevance    2     0.671   0.000               0.029\n",
       "structural racism       pubdate_desc 1     1.000   0.000               0.000\n",
       "                                     2     1.000   0.000               0.000\n",
       "                        relevance    1     0.875   0.025               0.100\n",
       "                                     2     0.925   0.000               0.075\n",
       "\n",
       "[720 rows x 3 columns]"
      ]
     },
     "execution_count": 39,
     "metadata": {},
     "output_type": "execute_result"
    }
   ],
   "source": [
    "human_animal_molcellular_df"
   ]
  },
  {
   "cell_type": "code",
   "execution_count": 40,
   "id": "87c54627",
   "metadata": {},
   "outputs": [],
   "source": [
    "# Save to feature set\n",
    "save_dest = Path(\"../data/features/\")\n",
    "human_animal_molcellular_df.to_csv(save_dest / \"human_animal_molcellular.csv\")"
   ]
  },
  {
   "cell_type": "code",
   "execution_count": null,
   "id": "7fb68e02",
   "metadata": {},
   "outputs": [],
   "source": []
  }
 ],
 "metadata": {
  "kernelspec": {
   "display_name": "Python 3 (ipykernel)",
   "language": "python",
   "name": "python3"
  },
  "language_info": {
   "codemirror_mode": {
    "name": "ipython",
    "version": 3
   },
   "file_extension": ".py",
   "mimetype": "text/x-python",
   "name": "python",
   "nbconvert_exporter": "python",
   "pygments_lexer": "ipython3",
   "version": "3.9.7"
  }
 },
 "nbformat": 4,
 "nbformat_minor": 5
}
