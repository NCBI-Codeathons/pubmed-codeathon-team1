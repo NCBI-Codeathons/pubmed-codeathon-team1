{
 "cells": [
  {
   "cell_type": "code",
   "execution_count": 1,
   "id": "99adf446",
   "metadata": {},
   "outputs": [],
   "source": [
    "import pandas as pd"
   ]
  },
  {
   "cell_type": "code",
   "execution_count": 19,
   "id": "adfc6c65",
   "metadata": {},
   "outputs": [],
   "source": [
    "import numpy as np\n",
    "from pathlib import Path"
   ]
  },
  {
   "cell_type": "code",
   "execution_count": 21,
   "id": "095b5995",
   "metadata": {},
   "outputs": [],
   "source": [
    "group_keys = [\"query\", \"search_type\", \"page\"]\n",
    "\n"
   ]
  },
  {
   "cell_type": "code",
   "execution_count": 2,
   "id": "434bb602",
   "metadata": {},
   "outputs": [],
   "source": [
    "pmid_file_data = pd.read_csv('../data/out/pmid_data.csv')"
   ]
  },
  {
   "cell_type": "code",
   "execution_count": 3,
   "id": "e62d5bcf",
   "metadata": {},
   "outputs": [
    {
     "data": {
      "text/plain": [
       "Index(['pmid', 'query', 'search_type', 'page', 'relative_citation_ratio',\n",
       "       'human', 'animal', 'molecular_cellular', 'apt', 'is_clinical',\n",
       "       'citation_count', 'cited_by', 'references', 'title', 'abstract',\n",
       "       'journal', 'authors', 'affiliations', 'pubdate', 'mesh_terms',\n",
       "       'publication_types', 'chemical_list', 'keywords', 'languages',\n",
       "       'country'],\n",
       "      dtype='object')"
      ]
     },
     "execution_count": 3,
     "metadata": {},
     "output_type": "execute_result"
    }
   ],
   "source": [
    "pmid_file_data.columns"
   ]
  },
  {
   "cell_type": "markdown",
   "id": "04e59bf6",
   "metadata": {},
   "source": [
    "Running analysis on apt score column "
   ]
  },
  {
   "cell_type": "code",
   "execution_count": 8,
   "id": "1789f773",
   "metadata": {},
   "outputs": [],
   "source": [
    "# Drop missing values\n",
    "apt_df = pmid_file_data.dropna(subset=[\"apt\"])\n",
    "\n"
   ]
  },
  {
   "cell_type": "code",
   "execution_count": 22,
   "id": "7d4a4e5a",
   "metadata": {},
   "outputs": [],
   "source": [
    "apt_dx = pmid_file_data.groupby(group_keys)['apt'].mean()"
   ]
  },
  {
   "cell_type": "code",
   "execution_count": 23,
   "id": "c537761b",
   "metadata": {},
   "outputs": [
    {
     "data": {
      "text/plain": [
       "query                    search_type   page\n",
       "AMPK signalling pathway  pubdate_desc  1       0.045\n",
       "                                       2       0.035\n",
       "                         relevance     1       0.455\n",
       "                                       2       0.345\n",
       "Acalabrutinib            pubdate_desc  1       0.025\n",
       "                                               ...  \n",
       "public transportation    relevance     2       0.090\n",
       "structural racism        pubdate_desc  1       0.050\n",
       "                                       2       0.120\n",
       "                         relevance     1       0.590\n",
       "                                       2       0.420\n",
       "Name: apt, Length: 720, dtype: float64"
      ]
     },
     "execution_count": 23,
     "metadata": {},
     "output_type": "execute_result"
    }
   ],
   "source": [
    "apt_dx"
   ]
  },
  {
   "cell_type": "code",
   "execution_count": 24,
   "id": "7f541da3",
   "metadata": {},
   "outputs": [],
   "source": [
    "# Save to feature set\n",
    "save_dest = Path(\"../data/features/\")\n",
    "apt_dx.to_csv(save_dest / \"apt.csv\")"
   ]
  },
  {
   "cell_type": "code",
   "execution_count": null,
   "id": "c1bcdd33",
   "metadata": {},
   "outputs": [],
   "source": []
  }
 ],
 "metadata": {
  "kernelspec": {
   "display_name": "Python 3 (ipykernel)",
   "language": "python",
   "name": "python3"
  },
  "language_info": {
   "codemirror_mode": {
    "name": "ipython",
    "version": 3
   },
   "file_extension": ".py",
   "mimetype": "text/x-python",
   "name": "python",
   "nbconvert_exporter": "python",
   "pygments_lexer": "ipython3",
   "version": "3.9.7"
  }
 },
 "nbformat": 4,
 "nbformat_minor": 5
}
